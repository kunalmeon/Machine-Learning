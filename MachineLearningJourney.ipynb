{
 "cells": [
  {
   "cell_type": "code",
   "execution_count": 63,
   "id": "b32cb4b5",
   "metadata": {},
   "outputs": [
    {
     "name": "stdout",
     "output_type": "stream",
     "text": [
      "Welcome Towards Machine Learning Journey\n"
     ]
    }
   ],
   "source": [
    "print(\"Welcome Towards Machine Learning Journey\")"
   ]
  },
  {
   "cell_type": "code",
   "execution_count": 64,
   "id": "e19514c5",
   "metadata": {},
   "outputs": [],
   "source": [
    "users = [{ \"id\": 0, \"name\": \"Hero\" },{ \"id\": 1, \"name\": \"Dunn\" },\n",
    " { \"id\": 2, \"name\": \"Sue\" },\n",
    " { \"id\": 3, \"name\": \"Chi\" },\n",
    " { \"id\": 4, \"name\": \"Thor\" },\n",
    " { \"id\": 5, \"name\": \"Clive\" },\n",
    " { \"id\": 6, \"name\": \"Hicks\" },\n",
    " { \"id\": 7, \"name\": \"Devin\" },\n",
    " { \"id\": 8, \"name\": \"Kate\" },\n",
    " { \"id\": 9, \"name\": \"Klein\" }\n",
    "]"
   ]
  },
  {
   "cell_type": "code",
   "execution_count": 65,
   "id": "b1eb0496",
   "metadata": {},
   "outputs": [
    {
     "data": {
      "text/plain": [
       "[{'id': 0, 'name': 'Hero'},\n",
       " {'id': 1, 'name': 'Dunn'},\n",
       " {'id': 2, 'name': 'Sue'},\n",
       " {'id': 3, 'name': 'Chi'},\n",
       " {'id': 4, 'name': 'Thor'},\n",
       " {'id': 5, 'name': 'Clive'},\n",
       " {'id': 6, 'name': 'Hicks'},\n",
       " {'id': 7, 'name': 'Devin'},\n",
       " {'id': 8, 'name': 'Kate'},\n",
       " {'id': 9, 'name': 'Klein'}]"
      ]
     },
     "execution_count": 65,
     "metadata": {},
     "output_type": "execute_result"
    }
   ],
   "source": [
    "newUser=[]\n",
    "for user in users:\n",
    "    newUser.append(user)\n",
    "newUser"
   ]
  },
  {
   "cell_type": "code",
   "execution_count": 66,
   "id": "48150c48",
   "metadata": {},
   "outputs": [],
   "source": [
    "import json\n",
    "new_user=json.dumps(users)"
   ]
  },
  {
   "cell_type": "code",
   "execution_count": 67,
   "id": "df9d439d",
   "metadata": {},
   "outputs": [
    {
     "data": {
      "text/plain": [
       "str"
      ]
     },
     "execution_count": 67,
     "metadata": {},
     "output_type": "execute_result"
    }
   ],
   "source": [
    "type(new_user)"
   ]
  },
  {
   "cell_type": "code",
   "execution_count": 68,
   "id": "b89136bf",
   "metadata": {},
   "outputs": [
    {
     "data": {
      "text/plain": [
       "dict"
      ]
     },
     "execution_count": 68,
     "metadata": {},
     "output_type": "execute_result"
    }
   ],
   "source": [
    "type(user)"
   ]
  },
  {
   "cell_type": "code",
   "execution_count": 69,
   "id": "8fcbd72d",
   "metadata": {},
   "outputs": [
    {
     "data": {
      "text/plain": [
       "[{'id': 0, 'name': 'Hero'},\n",
       " {'id': 1, 'name': 'Dunn'},\n",
       " {'id': 2, 'name': 'Sue'},\n",
       " {'id': 3, 'name': 'Chi'},\n",
       " {'id': 4, 'name': 'Thor'},\n",
       " {'id': 5, 'name': 'Clive'},\n",
       " {'id': 6, 'name': 'Hicks'},\n",
       " {'id': 7, 'name': 'Devin'},\n",
       " {'id': 8, 'name': 'Kate'},\n",
       " {'id': 9, 'name': 'Klein'}]"
      ]
     },
     "execution_count": 69,
     "metadata": {},
     "output_type": "execute_result"
    }
   ],
   "source": [
    "users"
   ]
  },
  {
   "cell_type": "code",
   "execution_count": 70,
   "id": "873fc410",
   "metadata": {},
   "outputs": [],
   "source": [
    "friendships = [(0, 1), (0, 2), (1, 2), (1, 3), (2, 3), (3, 4),\n",
    " (4, 5), (5, 6), (5, 7), (6, 8), (7, 8), (8, 9)]"
   ]
  },
  {
   "cell_type": "code",
   "execution_count": 71,
   "id": "2e841af0",
   "metadata": {},
   "outputs": [
    {
     "name": "stdout",
     "output_type": "stream",
     "text": [
      "[{'id': 0, 'name': 'Hero', 'friends': []}, {'id': 1, 'name': 'Dunn', 'friends': []}, {'id': 2, 'name': 'Sue', 'friends': []}, {'id': 3, 'name': 'Chi', 'friends': []}, {'id': 4, 'name': 'Thor', 'friends': []}, {'id': 5, 'name': 'Clive', 'friends': []}, {'id': 6, 'name': 'Hicks', 'friends': []}, {'id': 7, 'name': 'Devin', 'friends': []}, {'id': 8, 'name': 'Kate', 'friends': []}, {'id': 9, 'name': 'Klein', 'friends': []}]\n"
     ]
    }
   ],
   "source": [
    "for user in users:\n",
    "    user[\"friends\"]=[]\n",
    "print(users)"
   ]
  },
  {
   "cell_type": "code",
   "execution_count": 72,
   "id": "c7ea37c8",
   "metadata": {},
   "outputs": [
    {
     "name": "stdout",
     "output_type": "stream",
     "text": [
      "[{'id': 0, 'name': 'Hero', 'friends': [{'id': 1, 'name': 'Dunn', 'friends': [{...}, {'id': 2, 'name': 'Sue', 'friends': [{...}, {...}, {'id': 3, 'name': 'Chi', 'friends': [{...}, {...}, {'id': 4, 'name': 'Thor', 'friends': [{...}, {'id': 5, 'name': 'Clive', 'friends': [{...}, {'id': 6, 'name': 'Hicks', 'friends': [{...}, {'id': 8, 'name': 'Kate', 'friends': [{...}, {'id': 7, 'name': 'Devin', 'friends': [{...}, {...}]}, {'id': 9, 'name': 'Klein', 'friends': [{...}]}]}]}, {'id': 7, 'name': 'Devin', 'friends': [{...}, {'id': 8, 'name': 'Kate', 'friends': [{'id': 6, 'name': 'Hicks', 'friends': [{...}, {...}]}, {...}, {'id': 9, 'name': 'Klein', 'friends': [{...}]}]}]}]}]}]}]}, {'id': 3, 'name': 'Chi', 'friends': [{...}, {'id': 2, 'name': 'Sue', 'friends': [{...}, {...}, {...}]}, {'id': 4, 'name': 'Thor', 'friends': [{...}, {'id': 5, 'name': 'Clive', 'friends': [{...}, {'id': 6, 'name': 'Hicks', 'friends': [{...}, {'id': 8, 'name': 'Kate', 'friends': [{...}, {'id': 7, 'name': 'Devin', 'friends': [{...}, {...}]}, {'id': 9, 'name': 'Klein', 'friends': [{...}]}]}]}, {'id': 7, 'name': 'Devin', 'friends': [{...}, {'id': 8, 'name': 'Kate', 'friends': [{'id': 6, 'name': 'Hicks', 'friends': [{...}, {...}]}, {...}, {'id': 9, 'name': 'Klein', 'friends': [{...}]}]}]}]}]}]}]}, {'id': 2, 'name': 'Sue', 'friends': [{...}, {'id': 1, 'name': 'Dunn', 'friends': [{...}, {...}, {'id': 3, 'name': 'Chi', 'friends': [{...}, {...}, {'id': 4, 'name': 'Thor', 'friends': [{...}, {'id': 5, 'name': 'Clive', 'friends': [{...}, {'id': 6, 'name': 'Hicks', 'friends': [{...}, {'id': 8, 'name': 'Kate', 'friends': [{...}, {'id': 7, 'name': 'Devin', 'friends': [{...}, {...}]}, {'id': 9, 'name': 'Klein', 'friends': [{...}]}]}]}, {'id': 7, 'name': 'Devin', 'friends': [{...}, {'id': 8, 'name': 'Kate', 'friends': [{'id': 6, 'name': 'Hicks', 'friends': [{...}, {...}]}, {...}, {'id': 9, 'name': 'Klein', 'friends': [{...}]}]}]}]}]}]}]}, {'id': 3, 'name': 'Chi', 'friends': [{'id': 1, 'name': 'Dunn', 'friends': [{...}, {...}, {...}]}, {...}, {'id': 4, 'name': 'Thor', 'friends': [{...}, {'id': 5, 'name': 'Clive', 'friends': [{...}, {'id': 6, 'name': 'Hicks', 'friends': [{...}, {'id': 8, 'name': 'Kate', 'friends': [{...}, {'id': 7, 'name': 'Devin', 'friends': [{...}, {...}]}, {'id': 9, 'name': 'Klein', 'friends': [{...}]}]}]}, {'id': 7, 'name': 'Devin', 'friends': [{...}, {'id': 8, 'name': 'Kate', 'friends': [{'id': 6, 'name': 'Hicks', 'friends': [{...}, {...}]}, {...}, {'id': 9, 'name': 'Klein', 'friends': [{...}]}]}]}]}]}]}]}]}, {'id': 1, 'name': 'Dunn', 'friends': [{'id': 0, 'name': 'Hero', 'friends': [{...}, {'id': 2, 'name': 'Sue', 'friends': [{...}, {...}, {'id': 3, 'name': 'Chi', 'friends': [{...}, {...}, {'id': 4, 'name': 'Thor', 'friends': [{...}, {'id': 5, 'name': 'Clive', 'friends': [{...}, {'id': 6, 'name': 'Hicks', 'friends': [{...}, {'id': 8, 'name': 'Kate', 'friends': [{...}, {'id': 7, 'name': 'Devin', 'friends': [{...}, {...}]}, {'id': 9, 'name': 'Klein', 'friends': [{...}]}]}]}, {'id': 7, 'name': 'Devin', 'friends': [{...}, {'id': 8, 'name': 'Kate', 'friends': [{'id': 6, 'name': 'Hicks', 'friends': [{...}, {...}]}, {...}, {'id': 9, 'name': 'Klein', 'friends': [{...}]}]}]}]}]}]}]}]}, {'id': 2, 'name': 'Sue', 'friends': [{'id': 0, 'name': 'Hero', 'friends': [{...}, {...}]}, {...}, {'id': 3, 'name': 'Chi', 'friends': [{...}, {...}, {'id': 4, 'name': 'Thor', 'friends': [{...}, {'id': 5, 'name': 'Clive', 'friends': [{...}, {'id': 6, 'name': 'Hicks', 'friends': [{...}, {'id': 8, 'name': 'Kate', 'friends': [{...}, {'id': 7, 'name': 'Devin', 'friends': [{...}, {...}]}, {'id': 9, 'name': 'Klein', 'friends': [{...}]}]}]}, {'id': 7, 'name': 'Devin', 'friends': [{...}, {'id': 8, 'name': 'Kate', 'friends': [{'id': 6, 'name': 'Hicks', 'friends': [{...}, {...}]}, {...}, {'id': 9, 'name': 'Klein', 'friends': [{...}]}]}]}]}]}]}]}, {'id': 3, 'name': 'Chi', 'friends': [{...}, {'id': 2, 'name': 'Sue', 'friends': [{'id': 0, 'name': 'Hero', 'friends': [{...}, {...}]}, {...}, {...}]}, {'id': 4, 'name': 'Thor', 'friends': [{...}, {'id': 5, 'name': 'Clive', 'friends': [{...}, {'id': 6, 'name': 'Hicks', 'friends': [{...}, {'id': 8, 'name': 'Kate', 'friends': [{...}, {'id': 7, 'name': 'Devin', 'friends': [{...}, {...}]}, {'id': 9, 'name': 'Klein', 'friends': [{...}]}]}]}, {'id': 7, 'name': 'Devin', 'friends': [{...}, {'id': 8, 'name': 'Kate', 'friends': [{'id': 6, 'name': 'Hicks', 'friends': [{...}, {...}]}, {...}, {'id': 9, 'name': 'Klein', 'friends': [{...}]}]}]}]}]}]}]}, {'id': 2, 'name': 'Sue', 'friends': [{'id': 0, 'name': 'Hero', 'friends': [{'id': 1, 'name': 'Dunn', 'friends': [{...}, {...}, {'id': 3, 'name': 'Chi', 'friends': [{...}, {...}, {'id': 4, 'name': 'Thor', 'friends': [{...}, {'id': 5, 'name': 'Clive', 'friends': [{...}, {'id': 6, 'name': 'Hicks', 'friends': [{...}, {'id': 8, 'name': 'Kate', 'friends': [{...}, {'id': 7, 'name': 'Devin', 'friends': [{...}, {...}]}, {'id': 9, 'name': 'Klein', 'friends': [{...}]}]}]}, {'id': 7, 'name': 'Devin', 'friends': [{...}, {'id': 8, 'name': 'Kate', 'friends': [{'id': 6, 'name': 'Hicks', 'friends': [{...}, {...}]}, {...}, {'id': 9, 'name': 'Klein', 'friends': [{...}]}]}]}]}]}]}]}, {...}]}, {'id': 1, 'name': 'Dunn', 'friends': [{'id': 0, 'name': 'Hero', 'friends': [{...}, {...}]}, {...}, {'id': 3, 'name': 'Chi', 'friends': [{...}, {...}, {'id': 4, 'name': 'Thor', 'friends': [{...}, {'id': 5, 'name': 'Clive', 'friends': [{...}, {'id': 6, 'name': 'Hicks', 'friends': [{...}, {'id': 8, 'name': 'Kate', 'friends': [{...}, {'id': 7, 'name': 'Devin', 'friends': [{...}, {...}]}, {'id': 9, 'name': 'Klein', 'friends': [{...}]}]}]}, {'id': 7, 'name': 'Devin', 'friends': [{...}, {'id': 8, 'name': 'Kate', 'friends': [{'id': 6, 'name': 'Hicks', 'friends': [{...}, {...}]}, {...}, {'id': 9, 'name': 'Klein', 'friends': [{...}]}]}]}]}]}]}]}, {'id': 3, 'name': 'Chi', 'friends': [{'id': 1, 'name': 'Dunn', 'friends': [{'id': 0, 'name': 'Hero', 'friends': [{...}, {...}]}, {...}, {...}]}, {...}, {'id': 4, 'name': 'Thor', 'friends': [{...}, {'id': 5, 'name': 'Clive', 'friends': [{...}, {'id': 6, 'name': 'Hicks', 'friends': [{...}, {'id': 8, 'name': 'Kate', 'friends': [{...}, {'id': 7, 'name': 'Devin', 'friends': [{...}, {...}]}, {'id': 9, 'name': 'Klein', 'friends': [{...}]}]}]}, {'id': 7, 'name': 'Devin', 'friends': [{...}, {'id': 8, 'name': 'Kate', 'friends': [{'id': 6, 'name': 'Hicks', 'friends': [{...}, {...}]}, {...}, {'id': 9, 'name': 'Klein', 'friends': [{...}]}]}]}]}]}]}]}, {'id': 3, 'name': 'Chi', 'friends': [{'id': 1, 'name': 'Dunn', 'friends': [{'id': 0, 'name': 'Hero', 'friends': [{...}, {'id': 2, 'name': 'Sue', 'friends': [{...}, {...}, {...}]}]}, {'id': 2, 'name': 'Sue', 'friends': [{'id': 0, 'name': 'Hero', 'friends': [{...}, {...}]}, {...}, {...}]}, {...}]}, {'id': 2, 'name': 'Sue', 'friends': [{'id': 0, 'name': 'Hero', 'friends': [{'id': 1, 'name': 'Dunn', 'friends': [{...}, {...}, {...}]}, {...}]}, {'id': 1, 'name': 'Dunn', 'friends': [{'id': 0, 'name': 'Hero', 'friends': [{...}, {...}]}, {...}, {...}]}, {...}]}, {'id': 4, 'name': 'Thor', 'friends': [{...}, {'id': 5, 'name': 'Clive', 'friends': [{...}, {'id': 6, 'name': 'Hicks', 'friends': [{...}, {'id': 8, 'name': 'Kate', 'friends': [{...}, {'id': 7, 'name': 'Devin', 'friends': [{...}, {...}]}, {'id': 9, 'name': 'Klein', 'friends': [{...}]}]}]}, {'id': 7, 'name': 'Devin', 'friends': [{...}, {'id': 8, 'name': 'Kate', 'friends': [{'id': 6, 'name': 'Hicks', 'friends': [{...}, {...}]}, {...}, {'id': 9, 'name': 'Klein', 'friends': [{...}]}]}]}]}]}]}, {'id': 4, 'name': 'Thor', 'friends': [{'id': 3, 'name': 'Chi', 'friends': [{'id': 1, 'name': 'Dunn', 'friends': [{'id': 0, 'name': 'Hero', 'friends': [{...}, {'id': 2, 'name': 'Sue', 'friends': [{...}, {...}, {...}]}]}, {'id': 2, 'name': 'Sue', 'friends': [{'id': 0, 'name': 'Hero', 'friends': [{...}, {...}]}, {...}, {...}]}, {...}]}, {'id': 2, 'name': 'Sue', 'friends': [{'id': 0, 'name': 'Hero', 'friends': [{'id': 1, 'name': 'Dunn', 'friends': [{...}, {...}, {...}]}, {...}]}, {'id': 1, 'name': 'Dunn', 'friends': [{'id': 0, 'name': 'Hero', 'friends': [{...}, {...}]}, {...}, {...}]}, {...}]}, {...}]}, {'id': 5, 'name': 'Clive', 'friends': [{...}, {'id': 6, 'name': 'Hicks', 'friends': [{...}, {'id': 8, 'name': 'Kate', 'friends': [{...}, {'id': 7, 'name': 'Devin', 'friends': [{...}, {...}]}, {'id': 9, 'name': 'Klein', 'friends': [{...}]}]}]}, {'id': 7, 'name': 'Devin', 'friends': [{...}, {'id': 8, 'name': 'Kate', 'friends': [{'id': 6, 'name': 'Hicks', 'friends': [{...}, {...}]}, {...}, {'id': 9, 'name': 'Klein', 'friends': [{...}]}]}]}]}]}, {'id': 5, 'name': 'Clive', 'friends': [{'id': 4, 'name': 'Thor', 'friends': [{'id': 3, 'name': 'Chi', 'friends': [{'id': 1, 'name': 'Dunn', 'friends': [{'id': 0, 'name': 'Hero', 'friends': [{...}, {'id': 2, 'name': 'Sue', 'friends': [{...}, {...}, {...}]}]}, {'id': 2, 'name': 'Sue', 'friends': [{'id': 0, 'name': 'Hero', 'friends': [{...}, {...}]}, {...}, {...}]}, {...}]}, {'id': 2, 'name': 'Sue', 'friends': [{'id': 0, 'name': 'Hero', 'friends': [{'id': 1, 'name': 'Dunn', 'friends': [{...}, {...}, {...}]}, {...}]}, {'id': 1, 'name': 'Dunn', 'friends': [{'id': 0, 'name': 'Hero', 'friends': [{...}, {...}]}, {...}, {...}]}, {...}]}, {...}]}, {...}]}, {'id': 6, 'name': 'Hicks', 'friends': [{...}, {'id': 8, 'name': 'Kate', 'friends': [{...}, {'id': 7, 'name': 'Devin', 'friends': [{...}, {...}]}, {'id': 9, 'name': 'Klein', 'friends': [{...}]}]}]}, {'id': 7, 'name': 'Devin', 'friends': [{...}, {'id': 8, 'name': 'Kate', 'friends': [{'id': 6, 'name': 'Hicks', 'friends': [{...}, {...}]}, {...}, {'id': 9, 'name': 'Klein', 'friends': [{...}]}]}]}]}, {'id': 6, 'name': 'Hicks', 'friends': [{'id': 5, 'name': 'Clive', 'friends': [{'id': 4, 'name': 'Thor', 'friends': [{'id': 3, 'name': 'Chi', 'friends': [{'id': 1, 'name': 'Dunn', 'friends': [{'id': 0, 'name': 'Hero', 'friends': [{...}, {'id': 2, 'name': 'Sue', 'friends': [{...}, {...}, {...}]}]}, {'id': 2, 'name': 'Sue', 'friends': [{'id': 0, 'name': 'Hero', 'friends': [{...}, {...}]}, {...}, {...}]}, {...}]}, {'id': 2, 'name': 'Sue', 'friends': [{'id': 0, 'name': 'Hero', 'friends': [{'id': 1, 'name': 'Dunn', 'friends': [{...}, {...}, {...}]}, {...}]}, {'id': 1, 'name': 'Dunn', 'friends': [{'id': 0, 'name': 'Hero', 'friends': [{...}, {...}]}, {...}, {...}]}, {...}]}, {...}]}, {...}]}, {...}, {'id': 7, 'name': 'Devin', 'friends': [{...}, {'id': 8, 'name': 'Kate', 'friends': [{...}, {...}, {'id': 9, 'name': 'Klein', 'friends': [{...}]}]}]}]}, {'id': 8, 'name': 'Kate', 'friends': [{...}, {'id': 7, 'name': 'Devin', 'friends': [{'id': 5, 'name': 'Clive', 'friends': [{'id': 4, 'name': 'Thor', 'friends': [{'id': 3, 'name': 'Chi', 'friends': [{'id': 1, 'name': 'Dunn', 'friends': [{'id': 0, 'name': 'Hero', 'friends': [{...}, {'id': 2, 'name': 'Sue', 'friends': [{...}, {...}, {...}]}]}, {'id': 2, 'name': 'Sue', 'friends': [{'id': 0, 'name': 'Hero', 'friends': [{...}, {...}]}, {...}, {...}]}, {...}]}, {'id': 2, 'name': 'Sue', 'friends': [{'id': 0, 'name': 'Hero', 'friends': [{'id': 1, 'name': 'Dunn', 'friends': [{...}, {...}, {...}]}, {...}]}, {'id': 1, 'name': 'Dunn', 'friends': [{'id': 0, 'name': 'Hero', 'friends': [{...}, {...}]}, {...}, {...}]}, {...}]}, {...}]}, {...}]}, {...}, {...}]}, {...}]}, {'id': 9, 'name': 'Klein', 'friends': [{...}]}]}]}, {'id': 7, 'name': 'Devin', 'friends': [{'id': 5, 'name': 'Clive', 'friends': [{'id': 4, 'name': 'Thor', 'friends': [{'id': 3, 'name': 'Chi', 'friends': [{'id': 1, 'name': 'Dunn', 'friends': [{'id': 0, 'name': 'Hero', 'friends': [{...}, {'id': 2, 'name': 'Sue', 'friends': [{...}, {...}, {...}]}]}, {'id': 2, 'name': 'Sue', 'friends': [{'id': 0, 'name': 'Hero', 'friends': [{...}, {...}]}, {...}, {...}]}, {...}]}, {'id': 2, 'name': 'Sue', 'friends': [{'id': 0, 'name': 'Hero', 'friends': [{'id': 1, 'name': 'Dunn', 'friends': [{...}, {...}, {...}]}, {...}]}, {'id': 1, 'name': 'Dunn', 'friends': [{'id': 0, 'name': 'Hero', 'friends': [{...}, {...}]}, {...}, {...}]}, {...}]}, {...}]}, {...}]}, {'id': 6, 'name': 'Hicks', 'friends': [{...}, {'id': 8, 'name': 'Kate', 'friends': [{...}, {...}, {'id': 9, 'name': 'Klein', 'friends': [{...}]}]}]}, {...}]}, {'id': 8, 'name': 'Kate', 'friends': [{'id': 6, 'name': 'Hicks', 'friends': [{'id': 5, 'name': 'Clive', 'friends': [{'id': 4, 'name': 'Thor', 'friends': [{'id': 3, 'name': 'Chi', 'friends': [{'id': 1, 'name': 'Dunn', 'friends': [{'id': 0, 'name': 'Hero', 'friends': [{...}, {'id': 2, 'name': 'Sue', 'friends': [{...}, {...}, {...}]}]}, {'id': 2, 'name': 'Sue', 'friends': [{'id': 0, 'name': 'Hero', 'friends': [{...}, {...}]}, {...}, {...}]}, {...}]}, {'id': 2, 'name': 'Sue', 'friends': [{'id': 0, 'name': 'Hero', 'friends': [{'id': 1, 'name': 'Dunn', 'friends': [{...}, {...}, {...}]}, {...}]}, {'id': 1, 'name': 'Dunn', 'friends': [{'id': 0, 'name': 'Hero', 'friends': [{...}, {...}]}, {...}, {...}]}, {...}]}, {...}]}, {...}]}, {...}, {...}]}, {...}]}, {...}, {'id': 9, 'name': 'Klein', 'friends': [{...}]}]}]}, {'id': 8, 'name': 'Kate', 'friends': [{'id': 6, 'name': 'Hicks', 'friends': [{'id': 5, 'name': 'Clive', 'friends': [{'id': 4, 'name': 'Thor', 'friends': [{'id': 3, 'name': 'Chi', 'friends': [{'id': 1, 'name': 'Dunn', 'friends': [{'id': 0, 'name': 'Hero', 'friends': [{...}, {'id': 2, 'name': 'Sue', 'friends': [{...}, {...}, {...}]}]}, {'id': 2, 'name': 'Sue', 'friends': [{'id': 0, 'name': 'Hero', 'friends': [{...}, {...}]}, {...}, {...}]}, {...}]}, {'id': 2, 'name': 'Sue', 'friends': [{'id': 0, 'name': 'Hero', 'friends': [{'id': 1, 'name': 'Dunn', 'friends': [{...}, {...}, {...}]}, {...}]}, {'id': 1, 'name': 'Dunn', 'friends': [{'id': 0, 'name': 'Hero', 'friends': [{...}, {...}]}, {...}, {...}]}, {...}]}, {...}]}, {...}]}, {...}, {'id': 7, 'name': 'Devin', 'friends': [{...}, {...}]}]}, {...}]}, {'id': 7, 'name': 'Devin', 'friends': [{'id': 5, 'name': 'Clive', 'friends': [{'id': 4, 'name': 'Thor', 'friends': [{'id': 3, 'name': 'Chi', 'friends': [{'id': 1, 'name': 'Dunn', 'friends': [{'id': 0, 'name': 'Hero', 'friends': [{...}, {'id': 2, 'name': 'Sue', 'friends': [{...}, {...}, {...}]}]}, {'id': 2, 'name': 'Sue', 'friends': [{'id': 0, 'name': 'Hero', 'friends': [{...}, {...}]}, {...}, {...}]}, {...}]}, {'id': 2, 'name': 'Sue', 'friends': [{'id': 0, 'name': 'Hero', 'friends': [{'id': 1, 'name': 'Dunn', 'friends': [{...}, {...}, {...}]}, {...}]}, {'id': 1, 'name': 'Dunn', 'friends': [{'id': 0, 'name': 'Hero', 'friends': [{...}, {...}]}, {...}, {...}]}, {...}]}, {...}]}, {...}]}, {'id': 6, 'name': 'Hicks', 'friends': [{...}, {...}]}, {...}]}, {...}]}, {'id': 9, 'name': 'Klein', 'friends': [{...}]}]}, {'id': 9, 'name': 'Klein', 'friends': [{'id': 8, 'name': 'Kate', 'friends': [{'id': 6, 'name': 'Hicks', 'friends': [{'id': 5, 'name': 'Clive', 'friends': [{'id': 4, 'name': 'Thor', 'friends': [{'id': 3, 'name': 'Chi', 'friends': [{'id': 1, 'name': 'Dunn', 'friends': [{'id': 0, 'name': 'Hero', 'friends': [{...}, {'id': 2, 'name': 'Sue', 'friends': [{...}, {...}, {...}]}]}, {'id': 2, 'name': 'Sue', 'friends': [{'id': 0, 'name': 'Hero', 'friends': [{...}, {...}]}, {...}, {...}]}, {...}]}, {'id': 2, 'name': 'Sue', 'friends': [{'id': 0, 'name': 'Hero', 'friends': [{'id': 1, 'name': 'Dunn', 'friends': [{...}, {...}, {...}]}, {...}]}, {'id': 1, 'name': 'Dunn', 'friends': [{'id': 0, 'name': 'Hero', 'friends': [{...}, {...}]}, {...}, {...}]}, {...}]}, {...}]}, {...}]}, {...}, {'id': 7, 'name': 'Devin', 'friends': [{...}, {...}]}]}, {...}]}, {'id': 7, 'name': 'Devin', 'friends': [{'id': 5, 'name': 'Clive', 'friends': [{'id': 4, 'name': 'Thor', 'friends': [{'id': 3, 'name': 'Chi', 'friends': [{'id': 1, 'name': 'Dunn', 'friends': [{'id': 0, 'name': 'Hero', 'friends': [{...}, {'id': 2, 'name': 'Sue', 'friends': [{...}, {...}, {...}]}]}, {'id': 2, 'name': 'Sue', 'friends': [{'id': 0, 'name': 'Hero', 'friends': [{...}, {...}]}, {...}, {...}]}, {...}]}, {'id': 2, 'name': 'Sue', 'friends': [{'id': 0, 'name': 'Hero', 'friends': [{'id': 1, 'name': 'Dunn', 'friends': [{...}, {...}, {...}]}, {...}]}, {'id': 1, 'name': 'Dunn', 'friends': [{'id': 0, 'name': 'Hero', 'friends': [{...}, {...}]}, {...}, {...}]}, {...}]}, {...}]}, {...}]}, {'id': 6, 'name': 'Hicks', 'friends': [{...}, {...}]}, {...}]}, {...}]}, {...}]}]}]\n"
     ]
    }
   ],
   "source": [
    "for i,j in friendships:\n",
    "    users[i][\"friends\"].append(users[j])\n",
    "    users[j][\"friends\"].append(users[i])\n",
    "print(users)"
   ]
  },
  {
   "cell_type": "code",
   "execution_count": 73,
   "id": "e3208418",
   "metadata": {},
   "outputs": [
    {
     "data": {
      "text/plain": [
       "24"
      ]
     },
     "execution_count": 73,
     "metadata": {},
     "output_type": "execute_result"
    }
   ],
   "source": [
    "def number_of_friends(user):\n",
    "    return len(user[\"friends\"])\n",
    "total_connections=sum([number_of_friends(user) for user in users])\n",
    "total_connections"
   ]
  },
  {
   "cell_type": "code",
   "execution_count": 74,
   "id": "c0780ccd",
   "metadata": {},
   "outputs": [
    {
     "data": {
      "text/plain": [
       "[{'id': 0,\n",
       "  'name': 'Hero',\n",
       "  'friends': [{'id': 1,\n",
       "    'name': 'Dunn',\n",
       "    'friends': [{...},\n",
       "     {'id': 2, 'name': 'Sue', 'friends': [...]},\n",
       "     {'id': 3,\n",
       "      'name': 'Chi',\n",
       "      'friends': [{...},\n",
       "       {'id': 2, 'name': 'Sue', 'friends': [...]},\n",
       "       {'id': 4,\n",
       "        'name': 'Thor',\n",
       "        'friends': [{...},\n",
       "         {'id': 5,\n",
       "          'name': 'Clive',\n",
       "          'friends': [{...},\n",
       "           {'id': 6,\n",
       "            'name': 'Hicks',\n",
       "            'friends': [{...},\n",
       "             {'id': 8,\n",
       "              'name': 'Kate',\n",
       "              'friends': [{...},\n",
       "               {'id': 7, 'name': 'Devin', 'friends': [{...}, {...}]},\n",
       "               {'id': 9, 'name': 'Klein', 'friends': [{...}]}]}]},\n",
       "           {'id': 7,\n",
       "            'name': 'Devin',\n",
       "            'friends': [{...},\n",
       "             {'id': 8,\n",
       "              'name': 'Kate',\n",
       "              'friends': [{'id': 6,\n",
       "                'name': 'Hicks',\n",
       "                'friends': [{...}, {...}]},\n",
       "               {...},\n",
       "               {'id': 9, 'name': 'Klein', 'friends': [{...}]}]}]}]}]}]}]},\n",
       "   {'id': 2, 'name': 'Sue', 'friends': [...]}]},\n",
       " {'id': 1,\n",
       "  'name': 'Dunn',\n",
       "  'friends': [{'id': 0,\n",
       "    'name': 'Hero',\n",
       "    'friends': [{...}, {'id': 2, 'name': 'Sue', 'friends': [...]}]},\n",
       "   {'id': 2, 'name': 'Sue', 'friends': [...]},\n",
       "   {'id': 3,\n",
       "    'name': 'Chi',\n",
       "    'friends': [{...},\n",
       "     {'id': 2, 'name': 'Sue', 'friends': [...]},\n",
       "     {'id': 4,\n",
       "      'name': 'Thor',\n",
       "      'friends': [{...},\n",
       "       {'id': 5,\n",
       "        'name': 'Clive',\n",
       "        'friends': [{...},\n",
       "         {'id': 6,\n",
       "          'name': 'Hicks',\n",
       "          'friends': [{...},\n",
       "           {'id': 8,\n",
       "            'name': 'Kate',\n",
       "            'friends': [{...},\n",
       "             {'id': 7, 'name': 'Devin', 'friends': [{...}, {...}]},\n",
       "             {'id': 9, 'name': 'Klein', 'friends': [{...}]}]}]},\n",
       "         {'id': 7,\n",
       "          'name': 'Devin',\n",
       "          'friends': [{...},\n",
       "           {'id': 8,\n",
       "            'name': 'Kate',\n",
       "            'friends': [{'id': 6, 'name': 'Hicks', 'friends': [{...}, {...}]},\n",
       "             {...},\n",
       "             {'id': 9, 'name': 'Klein', 'friends': [{...}]}]}]}]}]}]}]},\n",
       " {'id': 3,\n",
       "  'name': 'Chi',\n",
       "  'friends': [{'id': 1,\n",
       "    'name': 'Dunn',\n",
       "    'friends': [{'id': 0,\n",
       "      'name': 'Hero',\n",
       "      'friends': [{...}, {'id': 2, 'name': 'Sue', 'friends': [...]}]},\n",
       "     {'id': 2, 'name': 'Sue', 'friends': [...]},\n",
       "     {...}]},\n",
       "   {'id': 2, 'name': 'Sue', 'friends': [...]},\n",
       "   {'id': 4,\n",
       "    'name': 'Thor',\n",
       "    'friends': [{...},\n",
       "     {'id': 5,\n",
       "      'name': 'Clive',\n",
       "      'friends': [{...},\n",
       "       {'id': 6,\n",
       "        'name': 'Hicks',\n",
       "        'friends': [{...},\n",
       "         {'id': 8,\n",
       "          'name': 'Kate',\n",
       "          'friends': [{...},\n",
       "           {'id': 7, 'name': 'Devin', 'friends': [{...}, {...}]},\n",
       "           {'id': 9, 'name': 'Klein', 'friends': [{...}]}]}]},\n",
       "       {'id': 7,\n",
       "        'name': 'Devin',\n",
       "        'friends': [{...},\n",
       "         {'id': 8,\n",
       "          'name': 'Kate',\n",
       "          'friends': [{'id': 6, 'name': 'Hicks', 'friends': [{...}, {...}]},\n",
       "           {...},\n",
       "           {'id': 9, 'name': 'Klein', 'friends': [{...}]}]}]}]}]}]}]"
      ]
     },
     "execution_count": 74,
     "metadata": {},
     "output_type": "execute_result"
    }
   ],
   "source": [
    "users[0][\"friends\"][0][\"friends\"][1][\"friends\"]"
   ]
  },
  {
   "cell_type": "code",
   "execution_count": 75,
   "id": "6f79109e",
   "metadata": {},
   "outputs": [
    {
     "data": {
      "text/plain": [
       "[(0, 2),\n",
       " (1, 3),\n",
       " (2, 3),\n",
       " (3, 3),\n",
       " (4, 2),\n",
       " (5, 3),\n",
       " (6, 2),\n",
       " (7, 2),\n",
       " (8, 3),\n",
       " (9, 1)]"
      ]
     },
     "execution_count": 75,
     "metadata": {},
     "output_type": "execute_result"
    }
   ],
   "source": [
    "num_friends_by_id= [(user[\"id\"], len(user[\"friends\"]))for user in users]\n",
    "num_friends_by_id"
   ]
  },
  {
   "cell_type": "code",
   "execution_count": 76,
   "id": "ea1c8fff",
   "metadata": {},
   "outputs": [
    {
     "data": {
      "text/plain": [
       "[(1, 3),\n",
       " (2, 3),\n",
       " (3, 3),\n",
       " (5, 3),\n",
       " (8, 3),\n",
       " (0, 2),\n",
       " (4, 2),\n",
       " (6, 2),\n",
       " (7, 2),\n",
       " (9, 1)]"
      ]
     },
     "execution_count": 76,
     "metadata": {},
     "output_type": "execute_result"
    }
   ],
   "source": [
    "sorted(num_friends_by_id, key= lambda num_friends_by_id:num_friends_by_id[1], reverse=True)"
   ]
  },
  {
   "cell_type": "code",
   "execution_count": 77,
   "id": "790c3f26",
   "metadata": {},
   "outputs": [
    {
     "data": {
      "text/plain": [
       "[(9, 1),\n",
       " (8, 3),\n",
       " (7, 2),\n",
       " (6, 2),\n",
       " (5, 3),\n",
       " (4, 2),\n",
       " (3, 3),\n",
       " (2, 3),\n",
       " (1, 3),\n",
       " (0, 2)]"
      ]
     },
     "execution_count": 77,
     "metadata": {},
     "output_type": "execute_result"
    }
   ],
   "source": [
    "# create a list (user_id, number_of_friends)\n",
    "num_friends_by_id = [(user[\"id\"], number_of_friends(user))\n",
    " for user in users]\n",
    "sorted(num_friends_by_id, # get it sorted\n",
    " key=lambda  num_friends: num_friends, # by num_friends\n",
    " reverse=True)"
   ]
  },
  {
   "cell_type": "code",
   "execution_count": 78,
   "id": "329399f3",
   "metadata": {},
   "outputs": [
    {
     "data": {
      "text/plain": [
       "5"
      ]
     },
     "execution_count": 78,
     "metadata": {},
     "output_type": "execute_result"
    }
   ],
   "source": [
    "[(4,5,6),(1,2,3)][0][1]"
   ]
  },
  {
   "cell_type": "markdown",
   "id": "a101d3db",
   "metadata": {},
   "source": [
    "## Data Scientist You May Know"
   ]
  },
  {
   "cell_type": "code",
   "execution_count": 79,
   "id": "a3df5f0f",
   "metadata": {},
   "outputs": [
    {
     "data": {
      "text/plain": [
       "[0, 2, 3, 0, 1, 3]"
      ]
     },
     "execution_count": 79,
     "metadata": {},
     "output_type": "execute_result"
    }
   ],
   "source": [
    "def friends_of_friends_ids_bad(user):\n",
    "    return [foaf[\"id\"] for friend in user[\"friends\"]\n",
    "    for foaf in friend[\"friends\"]]\n",
    "#[ friends_of_friends_ids_bad(user) for user in users]\n",
    "friends_of_friends_ids_bad(users[0])"
   ]
  },
  {
   "cell_type": "code",
   "execution_count": 80,
   "id": "052b7076",
   "metadata": {},
   "outputs": [
    {
     "data": {
      "text/plain": [
       "[(0, 1),\n",
       " (0, 2),\n",
       " (1, 2),\n",
       " (1, 3),\n",
       " (2, 3),\n",
       " (3, 4),\n",
       " (4, 5),\n",
       " (5, 6),\n",
       " (5, 7),\n",
       " (6, 8),\n",
       " (7, 8),\n",
       " (8, 9)]"
      ]
     },
     "execution_count": 80,
     "metadata": {},
     "output_type": "execute_result"
    }
   ],
   "source": [
    "[(0, 1), (0, 2), (1, 2), (1, 3), (2, 3), (3, 4),\n",
    " (4, 5), (5, 6), (5, 7), (6, 8), (7, 8), (8, 9)]"
   ]
  },
  {
   "cell_type": "code",
   "execution_count": 102,
   "id": "f58e72b2",
   "metadata": {},
   "outputs": [],
   "source": [
    "def not_same_id(user,other_user):\n",
    "    return user[\"id\"]!=other_user[\"id\"]\n"
   ]
  },
  {
   "cell_type": "code",
   "execution_count": 103,
   "id": "4e8b8e4a",
   "metadata": {},
   "outputs": [],
   "source": [
    "def not_friend(user,other_user):\n",
    "    return all( not_same_id(friend, other_user) for friend in user[\"friends\"])"
   ]
  },
  {
   "cell_type": "code",
   "execution_count": 108,
   "id": "ea49ba95",
   "metadata": {},
   "outputs": [],
   "source": [
    "from collections import Counter\n",
    "def mutual_friends(user):\n",
    "    return Counter(foaf[\"id\"] for friend in user[\"friends\"] for foaf in friend[\"friends\"] if not_same_id(user,foaf) and not_friend(user, foaf))"
   ]
  },
  {
   "cell_type": "code",
   "execution_count": 110,
   "id": "1184497f",
   "metadata": {},
   "outputs": [
    {
     "data": {
      "text/plain": [
       "Counter({0: 2, 5: 1})"
      ]
     },
     "execution_count": 110,
     "metadata": {},
     "output_type": "execute_result"
    }
   ],
   "source": [
    "mutual_friends(users[3])"
   ]
  },
  {
   "cell_type": "code",
   "execution_count": 111,
   "id": "51076108",
   "metadata": {},
   "outputs": [
    {
     "name": "stdout",
     "output_type": "stream",
     "text": [
      "hello\n"
     ]
    }
   ],
   "source": [
    "print(\"hello\")"
   ]
  },
  {
   "cell_type": "code",
   "execution_count": 112,
   "id": "34a9a07e",
   "metadata": {},
   "outputs": [
    {
     "name": "stdout",
     "output_type": "stream",
     "text": [
      "True\n",
      "False\n",
      "False\n",
      "False\n",
      "False\n",
      "False\n",
      "False\n",
      "False\n",
      "False\n",
      "False\n",
      "False\n",
      "False\n",
      "False\n",
      "False\n",
      "False\n",
      "False\n",
      "False\n",
      "False\n",
      "False\n",
      "False\n"
     ]
    }
   ],
   "source": [
    "for i in range(20):\n",
    "    print(i/2==0)"
   ]
  },
  {
   "cell_type": "code",
   "execution_count": 113,
   "id": "b1d69f82",
   "metadata": {},
   "outputs": [
    {
     "name": "stdout",
     "output_type": "stream",
     "text": [
      "0\n",
      "1\n",
      "2\n",
      "3\n",
      "4\n",
      "5\n",
      "6\n",
      "7\n",
      "8\n",
      "9\n"
     ]
    }
   ],
   "source": [
    "for i in range(10):\n",
    "    print(i)"
   ]
  },
  {
   "cell_type": "code",
   "execution_count": 114,
   "id": "ac90c9ed",
   "metadata": {},
   "outputs": [
    {
     "name": "stdout",
     "output_type": "stream",
     "text": [
      "[0, 1, 2, 3, 4, 5, 6, 7, 8, 9, 10, 11, 12, 13, 14, 15, 16, 17, 18, 19]\n"
     ]
    }
   ],
   "source": [
    "print(list(range(20)))"
   ]
  },
  {
   "cell_type": "code",
   "execution_count": 9,
   "id": "dcc9bfe8",
   "metadata": {},
   "outputs": [],
   "source": [
    "users=[{'id': 0, 'name': 'Hero'},\n",
    " {'id': 1, 'name': 'Dunn'},\n",
    " {'id': 2, 'name': 'Sue'},\n",
    " {'id': 3, 'name': 'Chi'},\n",
    " {'id': 4, 'name': 'Thor'},\n",
    " {'id': 5, 'name': 'Clive'},\n",
    " {'id': 6, 'name': 'Hicks'},\n",
    " {'id': 7, 'name': 'Devin'},\n",
    " {'id': 8, 'name': 'Kate'},\n",
    " {'id': 9, 'name': 'Klein'}]\n",
    "\n",
    "interests = [\n",
    " (0, \"Hadoop\"), (0, \"Big Data\"), (0, \"HBase\"), (0, \"Java\"),\n",
    " (0, \"Spark\"), (0, \"Storm\"), (0, \"Cassandra\"),\n",
    " (1, \"NoSQL\"), (1, \"MongoDB\"), (1, \"Cassandra\"), (1, \"HBase\"),\n",
    " (1, \"Postgres\"), (2, \"Python\"), (2, \"scikit-learn\"), (2, \"scipy\"),\n",
    " (2, \"numpy\"), (2, \"statsmodels\"), (2, \"pandas\"), (3, \"R\"), (3, \"Python\"),\n",
    " (3, \"statistics\"), (3, \"regression\"), (3, \"probability\"),\n",
    " (4, \"machine learning\"), (4, \"regression\"), (4, \"decision trees\"),\n",
    " (4, \"libsvm\"), (5, \"Python\"), (5, \"R\"), (5, \"Java\"), (5, \"C++\"),\n",
    " (5, \"Haskell\"), (5, \"programming languages\"), (6, \"statistics\"),\n",
    " (6, \"probability\"), (6, \"mathematics\"), (6, \"theory\"),\n",
    " (7, \"machine learning\"), (7, \"scikit-learn\"), (7, \"Mahout\"),\n",
    " (7, \"neural networks\"), (8, \"neural networks\"), (8, \"deep learning\"),\n",
    " (8, \"Big Data\"), (8, \"artificial intelligence\"), (9, \"Hadoop\"),\n",
    " (9, \"Java\"), (9, \"MapReduce\"), (9, \"Big Data\")\n",
    "]\n",
    "for user in users:\n",
    "    user[\"interest\"]=[]\n",
    "for id, interest in interests:\n",
    "    users[id][\"interest\"].append(interest)"
   ]
  },
  {
   "cell_type": "code",
   "execution_count": 10,
   "id": "38fb124b",
   "metadata": {},
   "outputs": [
    {
     "name": "stdout",
     "output_type": "stream",
     "text": [
      "[{'id': 0, 'name': 'Hero', 'interest': ['Hadoop', 'Big Data', 'HBase', 'Java', 'Spark', 'Storm', 'Cassandra']}, {'id': 1, 'name': 'Dunn', 'interest': ['NoSQL', 'MongoDB', 'Cassandra', 'HBase', 'Postgres']}, {'id': 2, 'name': 'Sue', 'interest': ['Python', 'scikit-learn', 'scipy', 'numpy', 'statsmodels', 'pandas']}, {'id': 3, 'name': 'Chi', 'interest': ['R', 'Python', 'statistics', 'regression', 'probability']}, {'id': 4, 'name': 'Thor', 'interest': ['machine learning', 'regression', 'decision trees', 'libsvm']}, {'id': 5, 'name': 'Clive', 'interest': ['Python', 'R', 'Java', 'C++', 'Haskell', 'programming languages']}, {'id': 6, 'name': 'Hicks', 'interest': ['statistics', 'probability', 'mathematics', 'theory']}, {'id': 7, 'name': 'Devin', 'interest': ['machine learning', 'scikit-learn', 'Mahout', 'neural networks']}, {'id': 8, 'name': 'Kate', 'interest': ['neural networks', 'deep learning', 'Big Data', 'artificial intelligence']}, {'id': 9, 'name': 'Klein', 'interest': ['Hadoop', 'Java', 'MapReduce', 'Big Data']}]\n"
     ]
    }
   ],
   "source": [
    "print(users)"
   ]
  },
  {
   "cell_type": "code",
   "execution_count": 22,
   "id": "2c0ef7ac",
   "metadata": {},
   "outputs": [],
   "source": [
    "from collections import Counter\n",
    "def findCommonInterest(selectedUser):\n",
    "    return Counter([ user[\"id\"] for user in users for selectedUserInterest in selectedUser[\"interest\"] if selectedUserInterest in user['interest'] and selectedUser[\"id\"]!=user[\"id\"]])\n",
    "    \n",
    "    "
   ]
  },
  {
   "cell_type": "code",
   "execution_count": 23,
   "id": "25e0967b",
   "metadata": {},
   "outputs": [
    {
     "data": {
      "text/plain": [
       "Counter({1: 2, 5: 1, 8: 1, 9: 3})"
      ]
     },
     "execution_count": 23,
     "metadata": {},
     "output_type": "execute_result"
    }
   ],
   "source": [
    "findCommonInterest(users[0])"
   ]
  },
  {
   "cell_type": "code",
   "execution_count": 26,
   "id": "7c468abd",
   "metadata": {},
   "outputs": [
    {
     "data": {
      "text/plain": [
       "[0, 2, 3, 3, 9]"
      ]
     },
     "execution_count": 26,
     "metadata": {},
     "output_type": "execute_result"
    }
   ],
   "source": [
    "from collections import Counter\n",
    "def findCommonInterest(selectedUser):\n",
    "    return [ user[\"id\"] for user in users for selectedUserInterest in selectedUser[\"interest\"] if selectedUserInterest in user['interest'] and selectedUser[\"id\"]!=user[\"id\"]]\n",
    "    \n",
    "findCommonInterest(users[5])"
   ]
  },
  {
   "cell_type": "markdown",
   "id": "f814ac54",
   "metadata": {},
   "source": [
    "## Salary and Tenures\n",
    "The defaultdict act exactly like normal dictioary with default values for those keys that are not present instead of raising an error unlike normal dictionary."
   ]
  },
  {
   "cell_type": "code",
   "execution_count": 64,
   "id": "7b8a5490",
   "metadata": {},
   "outputs": [
    {
     "name": "stdout",
     "output_type": "stream",
     "text": [
      "defaultdict(<class 'list'>, {8.7: [83000], 8.1: [88000], 0.7: [48000], 6: [76000], 6.5: [69000], 7.5: [76000], 2.5: [60000], 10: [83000], 1.9: [48000], 4.2: [63000]})\n"
     ]
    }
   ],
   "source": [
    "salaries_and_tenures = [(83000, 8.7), (88000, 8.1),\n",
    " (48000, 0.7), (76000, 6),\n",
    " (69000, 6.5), (76000, 7.5),\n",
    " (60000, 2.5), (83000, 10),\n",
    " (48000, 1.9), (63000, 4.2)]\n",
    "from collections import defaultdict\n",
    "salaryByExperience=defaultdict(list)\n",
    "for salary, experiene in salaries_and_tenures:\n",
    "    salaryByExperience[experiene].append(salary)\n",
    "print(salaryByExperience)"
   ]
  },
  {
   "cell_type": "code",
   "execution_count": 67,
   "id": "8144b597",
   "metadata": {},
   "outputs": [
    {
     "name": "stdout",
     "output_type": "stream",
     "text": [
      "{8.7: 83000.0, 8.1: 88000.0, 0.7: 48000.0, 6: 76000.0, 6.5: 69000.0, 7.5: 76000.0, 2.5: 60000.0, 10: 83000.0, 1.9: 48000.0, 4.2: 63000.0}\n"
     ]
    }
   ],
   "source": [
    "\n",
    "average_salary_by_tenure = {\n",
    " tenure : sum(salaries) / len(salaries)\n",
    " for tenure, salaries in salaryByExperience.items()\n",
    "}\n",
    "print(average_salary_by_tenure)\n",
    "\n",
    "# Default value of an empty list will be printed\n",
    "#salaryByExperience[\"Hello\"]"
   ]
  },
  {
   "cell_type": "code",
   "execution_count": 63,
   "id": "bb68477d",
   "metadata": {},
   "outputs": [
    {
     "data": {
      "text/plain": [
       "[<matplotlib.lines.Line2D at 0x23f8382e210>]"
      ]
     },
     "execution_count": 63,
     "metadata": {},
     "output_type": "execute_result"
    },
    {
     "data": {
      "image/png": "[encoded data removed]",
      "text/plain": [
       "<Figure size 640x480 with 1 Axes>"
      ]
     },
     "metadata": {},
     "output_type": "display_data"
    }
   ],
   "source": [
    "from matplotlib import pyplot as myplot\n",
    "#salaryByExperience.keys()\n",
    "salaryByExperience.values()\n",
    "myplot.plot(salaryByExperience.keys(),salaryByExperience.values(),color='g',marker='o', linestyle='none')"
   ]
  },
  {
   "cell_type": "code",
   "execution_count": 114,
   "id": "a7c164f9",
   "metadata": {},
   "outputs": [
    {
     "name": "stdout",
     "output_type": "stream",
     "text": [
      "defaultdict(<class 'list'>, {'More than five years': [83000, 88000, 76000, 69000, 76000, 83000], 'less than two years': [48000, 48000], 'less than five years': [60000, 63000]})\n"
     ]
    }
   ],
   "source": [
    "salaries_and_tenures = [(83000, 8.7), (88000, 8.1),\n",
    " (48000, 0.7), (76000, 6),\n",
    " (69000, 6.5), (76000, 7.5),\n",
    " (60000, 2.5), (83000, 10),\n",
    " (48000, 1.9), (63000, 4.2)]\n",
    "def tenure(year):\n",
    "    if year<2:\n",
    "        return \"less than two years\"\n",
    "    elif year<5:\n",
    "        return \"less than five years\"\n",
    "    else:\n",
    "        return \"More than five years\"\n",
    "\n",
    "\n",
    "tenure_groups= defaultdict(list)\n",
    "[tenure_groups[tenure(year)].append(salary) for salary,year in salaries_and_tenures\n",
    "]\n",
    "print(tenure_groups)"
   ]
  },
  {
   "cell_type": "code",
   "execution_count": 129,
   "id": "4577c2ae",
   "metadata": {},
   "outputs": [
    {
     "name": "stdout",
     "output_type": "stream",
     "text": [
      "{'More than five years': 79166.66666666667, 'less than two years': 48000.0, 'less than five years': 61500.0}\n"
     ]
    }
   ],
   "source": [
    "#{ experiene: sum(salaries)/len(salaries) for experience, salaries in tenure_groups}\n",
    "bucket_dict={}\n",
    "for tenure, salaries in tenure_groups.items():\n",
    "    bucket_dict[tenure]=sum(salaries)/len(salaries)\n",
    "print(bucket_dict)"
   ]
  },
  {
   "cell_type": "code",
   "execution_count": 130,
   "id": "1ddbadeb",
   "metadata": {},
   "outputs": [
    {
     "name": "stdout",
     "output_type": "stream",
     "text": [
      "['Descision', 'Tree']\n"
     ]
    }
   ],
   "source": [
    "print(\"Descision Tree\".split())"
   ]
  },
  {
   "cell_type": "code",
   "execution_count": 138,
   "id": "fd780a17",
   "metadata": {},
   "outputs": [
    {
     "name": "stdout",
     "output_type": "stream",
     "text": [
      "Counter({'Big Data': 3, 'Java': 3, 'Python': 3, 'Hadoop': 2, 'HBase': 2, 'Cassandra': 2, 'scikit-learn': 2, 'R': 2, 'statistics': 2, 'regression': 2, 'probability': 2, 'machine learning': 2, 'neural networks': 2, 'Spark': 1, 'Storm': 1, 'NoSQL': 1, 'MongoDB': 1, 'Postgres': 1, 'scipy': 1, 'numpy': 1, 'statsmodels': 1, 'pandas': 1, 'decision trees': 1, 'libsvm': 1, 'C++': 1, 'Haskell': 1, 'programming languages': 1, 'mathematics': 1, 'theory': 1, 'Mahout': 1, 'deep learning': 1, 'artificial intelligence': 1, 'MapReduce': 1})\n"
     ]
    }
   ],
   "source": [
    "from collections import Counter\n",
    "interests = [\n",
    " (0, \"Hadoop\"), (0, \"Big Data\"), (0, \"HBase\"), (0, \"Java\"),\n",
    " (0, \"Spark\"), (0, \"Storm\"), (0, \"Cassandra\"),\n",
    " (1, \"NoSQL\"), (1, \"MongoDB\"), (1, \"Cassandra\"), (1, \"HBase\"),\n",
    " (1, \"Postgres\"), (2, \"Python\"), (2, \"scikit-learn\"), (2, \"scipy\"),\n",
    " (2, \"numpy\"), (2, \"statsmodels\"), (2, \"pandas\"), (3, \"R\"), (3, \"Python\"),\n",
    " (3, \"statistics\"), (3, \"regression\"), (3, \"probability\"),\n",
    " (4, \"machine learning\"), (4, \"regression\"), (4, \"decision trees\"),\n",
    " (4, \"libsvm\"), (5, \"Python\"), (5, \"R\"), (5, \"Java\"), (5, \"C++\"),\n",
    " (5, \"Haskell\"), (5, \"programming languages\"), (6, \"statistics\"),\n",
    " (6, \"probability\"), (6, \"mathematics\"), (6, \"theory\"),\n",
    " (7, \"machine learning\"), (7, \"scikit-learn\"), (7, \"Mahout\"),\n",
    " (7, \"neural networks\"), (8, \"neural networks\"), (8, \"deep learning\"),\n",
    " (8, \"Big Data\"), (8, \"artificial intelligence\"), (9, \"Hadoop\"),\n",
    " (9, \"Java\"), (9, \"MapReduce\"), (9, \"Big Data\")\n",
    "]\n",
    "interest_count=Counter(interest for id, interest in interests)\n",
    "print(interest_count)"
   ]
  },
  {
   "cell_type": "code",
   "execution_count": null,
   "id": "9b5f0074",
   "metadata": {},
   "outputs": [],
   "source": []
  }
 ],
 "metadata": {
  "kernelspec": {
   "display_name": "Python 3 (ipykernel)",
   "language": "python",
   "name": "python3"
  },
  "language_info": {
   "codemirror_mode": {
    "name": "ipython",
    "version": 3
   },
   "file_extension": ".py",
   "mimetype": "text/x-python",
   "name": "python",
   "nbconvert_exporter": "python",
   "pygments_lexer": "ipython3",
   "version": "3.11.4"
  }
 },
 "nbformat": 4,
 "nbformat_minor": 5
}
