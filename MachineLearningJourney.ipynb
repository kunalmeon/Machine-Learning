{
 "cells": [
  {
   "cell_type": "code",
   "execution_count": 1,
   "id": "b32cb4b5",
   "metadata": {},
   "outputs": [
    {
     "name": "stdout",
     "output_type": "stream",
     "text": [
      "Welcome Towards Machine Learning Journey\n"
     ]
    }
   ],
   "source": [
    "print(\"Welcome Towards Machine Learning Journey\")"
   ]
  },
  {
   "cell_type": "code",
   "execution_count": 2,
   "id": "b53206c7",
   "metadata": {},
   "outputs": [
    {
     "name": "stdout",
     "output_type": "stream",
     "text": [
      "Requirement already satisfied: matplotlib in c:\\users\\kunal\\anaconda3\\lib\\site-packages (3.8.3)\n",
      "Requirement already satisfied: contourpy>=1.0.1 in c:\\users\\kunal\\anaconda3\\lib\\site-packages (from matplotlib) (1.0.5)\n",
      "Requirement already satisfied: cycler>=0.10 in c:\\users\\kunal\\anaconda3\\lib\\site-packages (from matplotlib) (0.11.0)\n",
      "Requirement already satisfied: fonttools>=4.22.0 in c:\\users\\kunal\\anaconda3\\lib\\site-packages (from matplotlib) (4.25.0)\n",
      "Requirement already satisfied: kiwisolver>=1.3.1 in c:\\users\\kunal\\anaconda3\\lib\\site-packages (from matplotlib) (1.4.4)\n",
      "Requirement already satisfied: numpy<2,>=1.21 in c:\\users\\kunal\\anaconda3\\lib\\site-packages (from matplotlib) (1.24.3)\n",
      "Requirement already satisfied: packaging>=20.0 in c:\\users\\kunal\\anaconda3\\lib\\site-packages (from matplotlib) (23.0)\n",
      "Requirement already satisfied: pillow>=8 in c:\\users\\kunal\\anaconda3\\lib\\site-packages (from matplotlib) (9.4.0)\n",
      "Requirement already satisfied: pyparsing>=2.3.1 in c:\\users\\kunal\\anaconda3\\lib\\site-packages (from matplotlib) (3.0.9)\n",
      "Requirement already satisfied: python-dateutil>=2.7 in c:\\users\\kunal\\anaconda3\\lib\\site-packages (from matplotlib) (2.8.2)\n",
      "Requirement already satisfied: six>=1.5 in c:\\users\\kunal\\anaconda3\\lib\\site-packages (from python-dateutil>=2.7->matplotlib) (1.16.0)\n",
      "Note: you may need to restart the kernel to use updated packages.\n"
     ]
    }
   ],
   "source": [
    "pip install matplotlib"
   ]
  },
  {
   "cell_type": "code",
   "execution_count": 3,
   "id": "e19514c5",
   "metadata": {},
   "outputs": [],
   "source": [
    "users = [{ \"id\": 0, \"name\": \"Hero\" },{ \"id\": 1, \"name\": \"Dunn\" },\n",
    " { \"id\": 2, \"name\": \"Sue\" },\n",
    " { \"id\": 3, \"name\": \"Chi\" },\n",
    " { \"id\": 4, \"name\": \"Thor\" },\n",
    " { \"id\": 5, \"name\": \"Clive\" },\n",
    " { \"id\": 6, \"name\": \"Hicks\" },\n",
    " { \"id\": 7, \"name\": \"Devin\" },\n",
    " { \"id\": 8, \"name\": \"Kate\" },\n",
    " { \"id\": 9, \"name\": \"Klein\" }\n",
    "]"
   ]
  },
  {
   "cell_type": "code",
   "execution_count": 4,
   "id": "b1eb0496",
   "metadata": {},
   "outputs": [
    {
     "data": {
      "text/plain": [
       "[{'id': 0, 'name': 'Hero'},\n",
       " {'id': 1, 'name': 'Dunn'},\n",
       " {'id': 2, 'name': 'Sue'},\n",
       " {'id': 3, 'name': 'Chi'},\n",
       " {'id': 4, 'name': 'Thor'},\n",
       " {'id': 5, 'name': 'Clive'},\n",
       " {'id': 6, 'name': 'Hicks'},\n",
       " {'id': 7, 'name': 'Devin'},\n",
       " {'id': 8, 'name': 'Kate'},\n",
       " {'id': 9, 'name': 'Klein'}]"
      ]
     },
     "execution_count": 4,
     "metadata": {},
     "output_type": "execute_result"
    }
   ],
   "source": [
    "newUser=[]\n",
    "for user in users:\n",
    "    newUser.append(user)\n",
    "newUser"
   ]
  },
  {
   "cell_type": "code",
   "execution_count": 5,
   "id": "48150c48",
   "metadata": {},
   "outputs": [],
   "source": [
    "import json\n",
    "new_user=json.dumps(users)"
   ]
  },
  {
   "cell_type": "code",
   "execution_count": 6,
   "id": "df9d439d",
   "metadata": {},
   "outputs": [
    {
     "data": {
      "text/plain": [
       "str"
      ]
     },
     "execution_count": 6,
     "metadata": {},
     "output_type": "execute_result"
    }
   ],
   "source": [
    "type(new_user)"
   ]
  },
  {
   "cell_type": "code",
   "execution_count": 7,
   "id": "b89136bf",
   "metadata": {},
   "outputs": [
    {
     "data": {
      "text/plain": [
       "dict"
      ]
     },
     "execution_count": 7,
     "metadata": {},
     "output_type": "execute_result"
    }
   ],
   "source": [
    "type(user)"
   ]
  },
  {
   "cell_type": "code",
   "execution_count": 8,
   "id": "8fcbd72d",
   "metadata": {},
   "outputs": [
    {
     "data": {
      "text/plain": [
       "[{'id': 0, 'name': 'Hero'},\n",
       " {'id': 1, 'name': 'Dunn'},\n",
       " {'id': 2, 'name': 'Sue'},\n",
       " {'id': 3, 'name': 'Chi'},\n",
       " {'id': 4, 'name': 'Thor'},\n",
       " {'id': 5, 'name': 'Clive'},\n",
       " {'id': 6, 'name': 'Hicks'},\n",
       " {'id': 7, 'name': 'Devin'},\n",
       " {'id': 8, 'name': 'Kate'},\n",
       " {'id': 9, 'name': 'Klein'}]"
      ]
     },
     "execution_count": 8,
     "metadata": {},
     "output_type": "execute_result"
    }
   ],
   "source": [
    "users"
   ]
  },
  {
   "cell_type": "code",
   "execution_count": 9,
   "id": "873fc410",
   "metadata": {},
   "outputs": [],
   "source": [
    "friendships = [(0, 1), (0, 2), (1, 2), (1, 3), (2, 3), (3, 4),\n",
    " (4, 5), (5, 6), (5, 7), (6, 8), (7, 8), (8, 9)]"
   ]
  },
  {
   "cell_type": "code",
   "execution_count": 10,
   "id": "2e841af0",
   "metadata": {},
   "outputs": [
    {
     "name": "stdout",
     "output_type": "stream",
     "text": [
      "[{'id': 0, 'name': 'Hero', 'friends': []}, {'id': 1, 'name': 'Dunn', 'friends': []}, {'id': 2, 'name': 'Sue', 'friends': []}, {'id': 3, 'name': 'Chi', 'friends': []}, {'id': 4, 'name': 'Thor', 'friends': []}, {'id': 5, 'name': 'Clive', 'friends': []}, {'id': 6, 'name': 'Hicks', 'friends': []}, {'id': 7, 'name': 'Devin', 'friends': []}, {'id': 8, 'name': 'Kate', 'friends': []}, {'id': 9, 'name': 'Klein', 'friends': []}]\n"
     ]
    }
   ],
   "source": [
    "for user in users:\n",
    "    user[\"friends\"]=[]\n",
    "print(users)"
   ]
  },
  {
   "cell_type": "code",
   "execution_count": 11,
   "id": "c7ea37c8",
   "metadata": {},
   "outputs": [
    {
     "name": "stdout",
     "output_type": "stream",
     "text": [
      "[{'id': 0, 'name': 'Hero', 'friends': [{'id': 1, 'name': 'Dunn', 'friends': [{...}, {'id': 2, 'name': 'Sue', 'friends': [{...}, {...}, {'id': 3, 'name': 'Chi', 'friends': [{...}, {...}, {'id': 4, 'name': 'Thor', 'friends': [{...}, {'id': 5, 'name': 'Clive', 'friends': [{...}, {'id': 6, 'name': 'Hicks', 'friends': [{...}, {'id': 8, 'name': 'Kate', 'friends': [{...}, {'id': 7, 'name': 'Devin', 'friends': [{...}, {...}]}, {'id': 9, 'name': 'Klein', 'friends': [{...}]}]}]}, {'id': 7, 'name': 'Devin', 'friends': [{...}, {'id': 8, 'name': 'Kate', 'friends': [{'id': 6, 'name': 'Hicks', 'friends': [{...}, {...}]}, {...}, {'id': 9, 'name': 'Klein', 'friends': [{...}]}]}]}]}]}]}]}, {'id': 3, 'name': 'Chi', 'friends': [{...}, {'id': 2, 'name': 'Sue', 'friends': [{...}, {...}, {...}]}, {'id': 4, 'name': 'Thor', 'friends': [{...}, {'id': 5, 'name': 'Clive', 'friends': [{...}, {'id': 6, 'name': 'Hicks', 'friends': [{...}, {'id': 8, 'name': 'Kate', 'friends': [{...}, {'id': 7, 'name': 'Devin', 'friends': [{...}, {...}]}, {'id': 9, 'name': 'Klein', 'friends': [{...}]}]}]}, {'id': 7, 'name': 'Devin', 'friends': [{...}, {'id': 8, 'name': 'Kate', 'friends': [{'id': 6, 'name': 'Hicks', 'friends': [{...}, {...}]}, {...}, {'id': 9, 'name': 'Klein', 'friends': [{...}]}]}]}]}]}]}]}, {'id': 2, 'name': 'Sue', 'friends': [{...}, {'id': 1, 'name': 'Dunn', 'friends': [{...}, {...}, {'id': 3, 'name': 'Chi', 'friends': [{...}, {...}, {'id': 4, 'name': 'Thor', 'friends': [{...}, {'id': 5, 'name': 'Clive', 'friends': [{...}, {'id': 6, 'name': 'Hicks', 'friends': [{...}, {'id': 8, 'name': 'Kate', 'friends': [{...}, {'id': 7, 'name': 'Devin', 'friends': [{...}, {...}]}, {'id': 9, 'name': 'Klein', 'friends': [{...}]}]}]}, {'id': 7, 'name': 'Devin', 'friends': [{...}, {'id': 8, 'name': 'Kate', 'friends': [{'id': 6, 'name': 'Hicks', 'friends': [{...}, {...}]}, {...}, {'id': 9, 'name': 'Klein', 'friends': [{...}]}]}]}]}]}]}]}, {'id': 3, 'name': 'Chi', 'friends': [{'id': 1, 'name': 'Dunn', 'friends': [{...}, {...}, {...}]}, {...}, {'id': 4, 'name': 'Thor', 'friends': [{...}, {'id': 5, 'name': 'Clive', 'friends': [{...}, {'id': 6, 'name': 'Hicks', 'friends': [{...}, {'id': 8, 'name': 'Kate', 'friends': [{...}, {'id': 7, 'name': 'Devin', 'friends': [{...}, {...}]}, {'id': 9, 'name': 'Klein', 'friends': [{...}]}]}]}, {'id': 7, 'name': 'Devin', 'friends': [{...}, {'id': 8, 'name': 'Kate', 'friends': [{'id': 6, 'name': 'Hicks', 'friends': [{...}, {...}]}, {...}, {'id': 9, 'name': 'Klein', 'friends': [{...}]}]}]}]}]}]}]}]}, {'id': 1, 'name': 'Dunn', 'friends': [{'id': 0, 'name': 'Hero', 'friends': [{...}, {'id': 2, 'name': 'Sue', 'friends': [{...}, {...}, {'id': 3, 'name': 'Chi', 'friends': [{...}, {...}, {'id': 4, 'name': 'Thor', 'friends': [{...}, {'id': 5, 'name': 'Clive', 'friends': [{...}, {'id': 6, 'name': 'Hicks', 'friends': [{...}, {'id': 8, 'name': 'Kate', 'friends': [{...}, {'id': 7, 'name': 'Devin', 'friends': [{...}, {...}]}, {'id': 9, 'name': 'Klein', 'friends': [{...}]}]}]}, {'id': 7, 'name': 'Devin', 'friends': [{...}, {'id': 8, 'name': 'Kate', 'friends': [{'id': 6, 'name': 'Hicks', 'friends': [{...}, {...}]}, {...}, {'id': 9, 'name': 'Klein', 'friends': [{...}]}]}]}]}]}]}]}]}, {'id': 2, 'name': 'Sue', 'friends': [{'id': 0, 'name': 'Hero', 'friends': [{...}, {...}]}, {...}, {'id': 3, 'name': 'Chi', 'friends': [{...}, {...}, {'id': 4, 'name': 'Thor', 'friends': [{...}, {'id': 5, 'name': 'Clive', 'friends': [{...}, {'id': 6, 'name': 'Hicks', 'friends': [{...}, {'id': 8, 'name': 'Kate', 'friends': [{...}, {'id': 7, 'name': 'Devin', 'friends': [{...}, {...}]}, {'id': 9, 'name': 'Klein', 'friends': [{...}]}]}]}, {'id': 7, 'name': 'Devin', 'friends': [{...}, {'id': 8, 'name': 'Kate', 'friends': [{'id': 6, 'name': 'Hicks', 'friends': [{...}, {...}]}, {...}, {'id': 9, 'name': 'Klein', 'friends': [{...}]}]}]}]}]}]}]}, {'id': 3, 'name': 'Chi', 'friends': [{...}, {'id': 2, 'name': 'Sue', 'friends': [{'id': 0, 'name': 'Hero', 'friends': [{...}, {...}]}, {...}, {...}]}, {'id': 4, 'name': 'Thor', 'friends': [{...}, {'id': 5, 'name': 'Clive', 'friends': [{...}, {'id': 6, 'name': 'Hicks', 'friends': [{...}, {'id': 8, 'name': 'Kate', 'friends': [{...}, {'id': 7, 'name': 'Devin', 'friends': [{...}, {...}]}, {'id': 9, 'name': 'Klein', 'friends': [{...}]}]}]}, {'id': 7, 'name': 'Devin', 'friends': [{...}, {'id': 8, 'name': 'Kate', 'friends': [{'id': 6, 'name': 'Hicks', 'friends': [{...}, {...}]}, {...}, {'id': 9, 'name': 'Klein', 'friends': [{...}]}]}]}]}]}]}]}, {'id': 2, 'name': 'Sue', 'friends': [{'id': 0, 'name': 'Hero', 'friends': [{'id': 1, 'name': 'Dunn', 'friends': [{...}, {...}, {'id': 3, 'name': 'Chi', 'friends': [{...}, {...}, {'id': 4, 'name': 'Thor', 'friends': [{...}, {'id': 5, 'name': 'Clive', 'friends': [{...}, {'id': 6, 'name': 'Hicks', 'friends': [{...}, {'id': 8, 'name': 'Kate', 'friends': [{...}, {'id': 7, 'name': 'Devin', 'friends': [{...}, {...}]}, {'id': 9, 'name': 'Klein', 'friends': [{...}]}]}]}, {'id': 7, 'name': 'Devin', 'friends': [{...}, {'id': 8, 'name': 'Kate', 'friends': [{'id': 6, 'name': 'Hicks', 'friends': [{...}, {...}]}, {...}, {'id': 9, 'name': 'Klein', 'friends': [{...}]}]}]}]}]}]}]}, {...}]}, {'id': 1, 'name': 'Dunn', 'friends': [{'id': 0, 'name': 'Hero', 'friends': [{...}, {...}]}, {...}, {'id': 3, 'name': 'Chi', 'friends': [{...}, {...}, {'id': 4, 'name': 'Thor', 'friends': [{...}, {'id': 5, 'name': 'Clive', 'friends': [{...}, {'id': 6, 'name': 'Hicks', 'friends': [{...}, {'id': 8, 'name': 'Kate', 'friends': [{...}, {'id': 7, 'name': 'Devin', 'friends': [{...}, {...}]}, {'id': 9, 'name': 'Klein', 'friends': [{...}]}]}]}, {'id': 7, 'name': 'Devin', 'friends': [{...}, {'id': 8, 'name': 'Kate', 'friends': [{'id': 6, 'name': 'Hicks', 'friends': [{...}, {...}]}, {...}, {'id': 9, 'name': 'Klein', 'friends': [{...}]}]}]}]}]}]}]}, {'id': 3, 'name': 'Chi', 'friends': [{'id': 1, 'name': 'Dunn', 'friends': [{'id': 0, 'name': 'Hero', 'friends': [{...}, {...}]}, {...}, {...}]}, {...}, {'id': 4, 'name': 'Thor', 'friends': [{...}, {'id': 5, 'name': 'Clive', 'friends': [{...}, {'id': 6, 'name': 'Hicks', 'friends': [{...}, {'id': 8, 'name': 'Kate', 'friends': [{...}, {'id': 7, 'name': 'Devin', 'friends': [{...}, {...}]}, {'id': 9, 'name': 'Klein', 'friends': [{...}]}]}]}, {'id': 7, 'name': 'Devin', 'friends': [{...}, {'id': 8, 'name': 'Kate', 'friends': [{'id': 6, 'name': 'Hicks', 'friends': [{...}, {...}]}, {...}, {'id': 9, 'name': 'Klein', 'friends': [{...}]}]}]}]}]}]}]}, {'id': 3, 'name': 'Chi', 'friends': [{'id': 1, 'name': 'Dunn', 'friends': [{'id': 0, 'name': 'Hero', 'friends': [{...}, {'id': 2, 'name': 'Sue', 'friends': [{...}, {...}, {...}]}]}, {'id': 2, 'name': 'Sue', 'friends': [{'id': 0, 'name': 'Hero', 'friends': [{...}, {...}]}, {...}, {...}]}, {...}]}, {'id': 2, 'name': 'Sue', 'friends': [{'id': 0, 'name': 'Hero', 'friends': [{'id': 1, 'name': 'Dunn', 'friends': [{...}, {...}, {...}]}, {...}]}, {'id': 1, 'name': 'Dunn', 'friends': [{'id': 0, 'name': 'Hero', 'friends': [{...}, {...}]}, {...}, {...}]}, {...}]}, {'id': 4, 'name': 'Thor', 'friends': [{...}, {'id': 5, 'name': 'Clive', 'friends': [{...}, {'id': 6, 'name': 'Hicks', 'friends': [{...}, {'id': 8, 'name': 'Kate', 'friends': [{...}, {'id': 7, 'name': 'Devin', 'friends': [{...}, {...}]}, {'id': 9, 'name': 'Klein', 'friends': [{...}]}]}]}, {'id': 7, 'name': 'Devin', 'friends': [{...}, {'id': 8, 'name': 'Kate', 'friends': [{'id': 6, 'name': 'Hicks', 'friends': [{...}, {...}]}, {...}, {'id': 9, 'name': 'Klein', 'friends': [{...}]}]}]}]}]}]}, {'id': 4, 'name': 'Thor', 'friends': [{'id': 3, 'name': 'Chi', 'friends': [{'id': 1, 'name': 'Dunn', 'friends': [{'id': 0, 'name': 'Hero', 'friends': [{...}, {'id': 2, 'name': 'Sue', 'friends': [{...}, {...}, {...}]}]}, {'id': 2, 'name': 'Sue', 'friends': [{'id': 0, 'name': 'Hero', 'friends': [{...}, {...}]}, {...}, {...}]}, {...}]}, {'id': 2, 'name': 'Sue', 'friends': [{'id': 0, 'name': 'Hero', 'friends': [{'id': 1, 'name': 'Dunn', 'friends': [{...}, {...}, {...}]}, {...}]}, {'id': 1, 'name': 'Dunn', 'friends': [{'id': 0, 'name': 'Hero', 'friends': [{...}, {...}]}, {...}, {...}]}, {...}]}, {...}]}, {'id': 5, 'name': 'Clive', 'friends': [{...}, {'id': 6, 'name': 'Hicks', 'friends': [{...}, {'id': 8, 'name': 'Kate', 'friends': [{...}, {'id': 7, 'name': 'Devin', 'friends': [{...}, {...}]}, {'id': 9, 'name': 'Klein', 'friends': [{...}]}]}]}, {'id': 7, 'name': 'Devin', 'friends': [{...}, {'id': 8, 'name': 'Kate', 'friends': [{'id': 6, 'name': 'Hicks', 'friends': [{...}, {...}]}, {...}, {'id': 9, 'name': 'Klein', 'friends': [{...}]}]}]}]}]}, {'id': 5, 'name': 'Clive', 'friends': [{'id': 4, 'name': 'Thor', 'friends': [{'id': 3, 'name': 'Chi', 'friends': [{'id': 1, 'name': 'Dunn', 'friends': [{'id': 0, 'name': 'Hero', 'friends': [{...}, {'id': 2, 'name': 'Sue', 'friends': [{...}, {...}, {...}]}]}, {'id': 2, 'name': 'Sue', 'friends': [{'id': 0, 'name': 'Hero', 'friends': [{...}, {...}]}, {...}, {...}]}, {...}]}, {'id': 2, 'name': 'Sue', 'friends': [{'id': 0, 'name': 'Hero', 'friends': [{'id': 1, 'name': 'Dunn', 'friends': [{...}, {...}, {...}]}, {...}]}, {'id': 1, 'name': 'Dunn', 'friends': [{'id': 0, 'name': 'Hero', 'friends': [{...}, {...}]}, {...}, {...}]}, {...}]}, {...}]}, {...}]}, {'id': 6, 'name': 'Hicks', 'friends': [{...}, {'id': 8, 'name': 'Kate', 'friends': [{...}, {'id': 7, 'name': 'Devin', 'friends': [{...}, {...}]}, {'id': 9, 'name': 'Klein', 'friends': [{...}]}]}]}, {'id': 7, 'name': 'Devin', 'friends': [{...}, {'id': 8, 'name': 'Kate', 'friends': [{'id': 6, 'name': 'Hicks', 'friends': [{...}, {...}]}, {...}, {'id': 9, 'name': 'Klein', 'friends': [{...}]}]}]}]}, {'id': 6, 'name': 'Hicks', 'friends': [{'id': 5, 'name': 'Clive', 'friends': [{'id': 4, 'name': 'Thor', 'friends': [{'id': 3, 'name': 'Chi', 'friends': [{'id': 1, 'name': 'Dunn', 'friends': [{'id': 0, 'name': 'Hero', 'friends': [{...}, {'id': 2, 'name': 'Sue', 'friends': [{...}, {...}, {...}]}]}, {'id': 2, 'name': 'Sue', 'friends': [{'id': 0, 'name': 'Hero', 'friends': [{...}, {...}]}, {...}, {...}]}, {...}]}, {'id': 2, 'name': 'Sue', 'friends': [{'id': 0, 'name': 'Hero', 'friends': [{'id': 1, 'name': 'Dunn', 'friends': [{...}, {...}, {...}]}, {...}]}, {'id': 1, 'name': 'Dunn', 'friends': [{'id': 0, 'name': 'Hero', 'friends': [{...}, {...}]}, {...}, {...}]}, {...}]}, {...}]}, {...}]}, {...}, {'id': 7, 'name': 'Devin', 'friends': [{...}, {'id': 8, 'name': 'Kate', 'friends': [{...}, {...}, {'id': 9, 'name': 'Klein', 'friends': [{...}]}]}]}]}, {'id': 8, 'name': 'Kate', 'friends': [{...}, {'id': 7, 'name': 'Devin', 'friends': [{'id': 5, 'name': 'Clive', 'friends': [{'id': 4, 'name': 'Thor', 'friends': [{'id': 3, 'name': 'Chi', 'friends': [{'id': 1, 'name': 'Dunn', 'friends': [{'id': 0, 'name': 'Hero', 'friends': [{...}, {'id': 2, 'name': 'Sue', 'friends': [{...}, {...}, {...}]}]}, {'id': 2, 'name': 'Sue', 'friends': [{'id': 0, 'name': 'Hero', 'friends': [{...}, {...}]}, {...}, {...}]}, {...}]}, {'id': 2, 'name': 'Sue', 'friends': [{'id': 0, 'name': 'Hero', 'friends': [{'id': 1, 'name': 'Dunn', 'friends': [{...}, {...}, {...}]}, {...}]}, {'id': 1, 'name': 'Dunn', 'friends': [{'id': 0, 'name': 'Hero', 'friends': [{...}, {...}]}, {...}, {...}]}, {...}]}, {...}]}, {...}]}, {...}, {...}]}, {...}]}, {'id': 9, 'name': 'Klein', 'friends': [{...}]}]}]}, {'id': 7, 'name': 'Devin', 'friends': [{'id': 5, 'name': 'Clive', 'friends': [{'id': 4, 'name': 'Thor', 'friends': [{'id': 3, 'name': 'Chi', 'friends': [{'id': 1, 'name': 'Dunn', 'friends': [{'id': 0, 'name': 'Hero', 'friends': [{...}, {'id': 2, 'name': 'Sue', 'friends': [{...}, {...}, {...}]}]}, {'id': 2, 'name': 'Sue', 'friends': [{'id': 0, 'name': 'Hero', 'friends': [{...}, {...}]}, {...}, {...}]}, {...}]}, {'id': 2, 'name': 'Sue', 'friends': [{'id': 0, 'name': 'Hero', 'friends': [{'id': 1, 'name': 'Dunn', 'friends': [{...}, {...}, {...}]}, {...}]}, {'id': 1, 'name': 'Dunn', 'friends': [{'id': 0, 'name': 'Hero', 'friends': [{...}, {...}]}, {...}, {...}]}, {...}]}, {...}]}, {...}]}, {'id': 6, 'name': 'Hicks', 'friends': [{...}, {'id': 8, 'name': 'Kate', 'friends': [{...}, {...}, {'id': 9, 'name': 'Klein', 'friends': [{...}]}]}]}, {...}]}, {'id': 8, 'name': 'Kate', 'friends': [{'id': 6, 'name': 'Hicks', 'friends': [{'id': 5, 'name': 'Clive', 'friends': [{'id': 4, 'name': 'Thor', 'friends': [{'id': 3, 'name': 'Chi', 'friends': [{'id': 1, 'name': 'Dunn', 'friends': [{'id': 0, 'name': 'Hero', 'friends': [{...}, {'id': 2, 'name': 'Sue', 'friends': [{...}, {...}, {...}]}]}, {'id': 2, 'name': 'Sue', 'friends': [{'id': 0, 'name': 'Hero', 'friends': [{...}, {...}]}, {...}, {...}]}, {...}]}, {'id': 2, 'name': 'Sue', 'friends': [{'id': 0, 'name': 'Hero', 'friends': [{'id': 1, 'name': 'Dunn', 'friends': [{...}, {...}, {...}]}, {...}]}, {'id': 1, 'name': 'Dunn', 'friends': [{'id': 0, 'name': 'Hero', 'friends': [{...}, {...}]}, {...}, {...}]}, {...}]}, {...}]}, {...}]}, {...}, {...}]}, {...}]}, {...}, {'id': 9, 'name': 'Klein', 'friends': [{...}]}]}]}, {'id': 8, 'name': 'Kate', 'friends': [{'id': 6, 'name': 'Hicks', 'friends': [{'id': 5, 'name': 'Clive', 'friends': [{'id': 4, 'name': 'Thor', 'friends': [{'id': 3, 'name': 'Chi', 'friends': [{'id': 1, 'name': 'Dunn', 'friends': [{'id': 0, 'name': 'Hero', 'friends': [{...}, {'id': 2, 'name': 'Sue', 'friends': [{...}, {...}, {...}]}]}, {'id': 2, 'name': 'Sue', 'friends': [{'id': 0, 'name': 'Hero', 'friends': [{...}, {...}]}, {...}, {...}]}, {...}]}, {'id': 2, 'name': 'Sue', 'friends': [{'id': 0, 'name': 'Hero', 'friends': [{'id': 1, 'name': 'Dunn', 'friends': [{...}, {...}, {...}]}, {...}]}, {'id': 1, 'name': 'Dunn', 'friends': [{'id': 0, 'name': 'Hero', 'friends': [{...}, {...}]}, {...}, {...}]}, {...}]}, {...}]}, {...}]}, {...}, {'id': 7, 'name': 'Devin', 'friends': [{...}, {...}]}]}, {...}]}, {'id': 7, 'name': 'Devin', 'friends': [{'id': 5, 'name': 'Clive', 'friends': [{'id': 4, 'name': 'Thor', 'friends': [{'id': 3, 'name': 'Chi', 'friends': [{'id': 1, 'name': 'Dunn', 'friends': [{'id': 0, 'name': 'Hero', 'friends': [{...}, {'id': 2, 'name': 'Sue', 'friends': [{...}, {...}, {...}]}]}, {'id': 2, 'name': 'Sue', 'friends': [{'id': 0, 'name': 'Hero', 'friends': [{...}, {...}]}, {...}, {...}]}, {...}]}, {'id': 2, 'name': 'Sue', 'friends': [{'id': 0, 'name': 'Hero', 'friends': [{'id': 1, 'name': 'Dunn', 'friends': [{...}, {...}, {...}]}, {...}]}, {'id': 1, 'name': 'Dunn', 'friends': [{'id': 0, 'name': 'Hero', 'friends': [{...}, {...}]}, {...}, {...}]}, {...}]}, {...}]}, {...}]}, {'id': 6, 'name': 'Hicks', 'friends': [{...}, {...}]}, {...}]}, {...}]}, {'id': 9, 'name': 'Klein', 'friends': [{...}]}]}, {'id': 9, 'name': 'Klein', 'friends': [{'id': 8, 'name': 'Kate', 'friends': [{'id': 6, 'name': 'Hicks', 'friends': [{'id': 5, 'name': 'Clive', 'friends': [{'id': 4, 'name': 'Thor', 'friends': [{'id': 3, 'name': 'Chi', 'friends': [{'id': 1, 'name': 'Dunn', 'friends': [{'id': 0, 'name': 'Hero', 'friends': [{...}, {'id': 2, 'name': 'Sue', 'friends': [{...}, {...}, {...}]}]}, {'id': 2, 'name': 'Sue', 'friends': [{'id': 0, 'name': 'Hero', 'friends': [{...}, {...}]}, {...}, {...}]}, {...}]}, {'id': 2, 'name': 'Sue', 'friends': [{'id': 0, 'name': 'Hero', 'friends': [{'id': 1, 'name': 'Dunn', 'friends': [{...}, {...}, {...}]}, {...}]}, {'id': 1, 'name': 'Dunn', 'friends': [{'id': 0, 'name': 'Hero', 'friends': [{...}, {...}]}, {...}, {...}]}, {...}]}, {...}]}, {...}]}, {...}, {'id': 7, 'name': 'Devin', 'friends': [{...}, {...}]}]}, {...}]}, {'id': 7, 'name': 'Devin', 'friends': [{'id': 5, 'name': 'Clive', 'friends': [{'id': 4, 'name': 'Thor', 'friends': [{'id': 3, 'name': 'Chi', 'friends': [{'id': 1, 'name': 'Dunn', 'friends': [{'id': 0, 'name': 'Hero', 'friends': [{...}, {'id': 2, 'name': 'Sue', 'friends': [{...}, {...}, {...}]}]}, {'id': 2, 'name': 'Sue', 'friends': [{'id': 0, 'name': 'Hero', 'friends': [{...}, {...}]}, {...}, {...}]}, {...}]}, {'id': 2, 'name': 'Sue', 'friends': [{'id': 0, 'name': 'Hero', 'friends': [{'id': 1, 'name': 'Dunn', 'friends': [{...}, {...}, {...}]}, {...}]}, {'id': 1, 'name': 'Dunn', 'friends': [{'id': 0, 'name': 'Hero', 'friends': [{...}, {...}]}, {...}, {...}]}, {...}]}, {...}]}, {...}]}, {'id': 6, 'name': 'Hicks', 'friends': [{...}, {...}]}, {...}]}, {...}]}, {...}]}]}]\n"
     ]
    }
   ],
   "source": [
    "for i,j in friendships:\n",
    "    users[i][\"friends\"].append(users[j])\n",
    "    users[j][\"friends\"].append(users[i])\n",
    "print(users)"
   ]
  },
  {
   "cell_type": "code",
   "execution_count": 12,
   "id": "e3208418",
   "metadata": {},
   "outputs": [
    {
     "data": {
      "text/plain": [
       "24"
      ]
     },
     "execution_count": 12,
     "metadata": {},
     "output_type": "execute_result"
    }
   ],
   "source": [
    "def number_of_friends(user):\n",
    "    return len(user[\"friends\"])\n",
    "total_connections=sum([number_of_friends(user) for user in users])\n",
    "total_connections"
   ]
  },
  {
   "cell_type": "code",
   "execution_count": 13,
   "id": "c0780ccd",
   "metadata": {},
   "outputs": [
    {
     "data": {
      "text/plain": [
       "[{'id': 0,\n",
       "  'name': 'Hero',\n",
       "  'friends': [{'id': 1,\n",
       "    'name': 'Dunn',\n",
       "    'friends': [{...},\n",
       "     {'id': 2, 'name': 'Sue', 'friends': [...]},\n",
       "     {'id': 3,\n",
       "      'name': 'Chi',\n",
       "      'friends': [{...},\n",
       "       {'id': 2, 'name': 'Sue', 'friends': [...]},\n",
       "       {'id': 4,\n",
       "        'name': 'Thor',\n",
       "        'friends': [{...},\n",
       "         {'id': 5,\n",
       "          'name': 'Clive',\n",
       "          'friends': [{...},\n",
       "           {'id': 6,\n",
       "            'name': 'Hicks',\n",
       "            'friends': [{...},\n",
       "             {'id': 8,\n",
       "              'name': 'Kate',\n",
       "              'friends': [{...},\n",
       "               {'id': 7, 'name': 'Devin', 'friends': [{...}, {...}]},\n",
       "               {'id': 9, 'name': 'Klein', 'friends': [{...}]}]}]},\n",
       "           {'id': 7,\n",
       "            'name': 'Devin',\n",
       "            'friends': [{...},\n",
       "             {'id': 8,\n",
       "              'name': 'Kate',\n",
       "              'friends': [{'id': 6,\n",
       "                'name': 'Hicks',\n",
       "                'friends': [{...}, {...}]},\n",
       "               {...},\n",
       "               {'id': 9, 'name': 'Klein', 'friends': [{...}]}]}]}]}]}]}]},\n",
       "   {'id': 2, 'name': 'Sue', 'friends': [...]}]},\n",
       " {'id': 1,\n",
       "  'name': 'Dunn',\n",
       "  'friends': [{'id': 0,\n",
       "    'name': 'Hero',\n",
       "    'friends': [{...}, {'id': 2, 'name': 'Sue', 'friends': [...]}]},\n",
       "   {'id': 2, 'name': 'Sue', 'friends': [...]},\n",
       "   {'id': 3,\n",
       "    'name': 'Chi',\n",
       "    'friends': [{...},\n",
       "     {'id': 2, 'name': 'Sue', 'friends': [...]},\n",
       "     {'id': 4,\n",
       "      'name': 'Thor',\n",
       "      'friends': [{...},\n",
       "       {'id': 5,\n",
       "        'name': 'Clive',\n",
       "        'friends': [{...},\n",
       "         {'id': 6,\n",
       "          'name': 'Hicks',\n",
       "          'friends': [{...},\n",
       "           {'id': 8,\n",
       "            'name': 'Kate',\n",
       "            'friends': [{...},\n",
       "             {'id': 7, 'name': 'Devin', 'friends': [{...}, {...}]},\n",
       "             {'id': 9, 'name': 'Klein', 'friends': [{...}]}]}]},\n",
       "         {'id': 7,\n",
       "          'name': 'Devin',\n",
       "          'friends': [{...},\n",
       "           {'id': 8,\n",
       "            'name': 'Kate',\n",
       "            'friends': [{'id': 6, 'name': 'Hicks', 'friends': [{...}, {...}]},\n",
       "             {...},\n",
       "             {'id': 9, 'name': 'Klein', 'friends': [{...}]}]}]}]}]}]}]},\n",
       " {'id': 3,\n",
       "  'name': 'Chi',\n",
       "  'friends': [{'id': 1,\n",
       "    'name': 'Dunn',\n",
       "    'friends': [{'id': 0,\n",
       "      'name': 'Hero',\n",
       "      'friends': [{...}, {'id': 2, 'name': 'Sue', 'friends': [...]}]},\n",
       "     {'id': 2, 'name': 'Sue', 'friends': [...]},\n",
       "     {...}]},\n",
       "   {'id': 2, 'name': 'Sue', 'friends': [...]},\n",
       "   {'id': 4,\n",
       "    'name': 'Thor',\n",
       "    'friends': [{...},\n",
       "     {'id': 5,\n",
       "      'name': 'Clive',\n",
       "      'friends': [{...},\n",
       "       {'id': 6,\n",
       "        'name': 'Hicks',\n",
       "        'friends': [{...},\n",
       "         {'id': 8,\n",
       "          'name': 'Kate',\n",
       "          'friends': [{...},\n",
       "           {'id': 7, 'name': 'Devin', 'friends': [{...}, {...}]},\n",
       "           {'id': 9, 'name': 'Klein', 'friends': [{...}]}]}]},\n",
       "       {'id': 7,\n",
       "        'name': 'Devin',\n",
       "        'friends': [{...},\n",
       "         {'id': 8,\n",
       "          'name': 'Kate',\n",
       "          'friends': [{'id': 6, 'name': 'Hicks', 'friends': [{...}, {...}]},\n",
       "           {...},\n",
       "           {'id': 9, 'name': 'Klein', 'friends': [{...}]}]}]}]}]}]}]"
      ]
     },
     "execution_count": 13,
     "metadata": {},
     "output_type": "execute_result"
    }
   ],
   "source": [
    "users[0][\"friends\"][0][\"friends\"][1][\"friends\"]"
   ]
  },
  {
   "cell_type": "code",
   "execution_count": 14,
   "id": "6f79109e",
   "metadata": {},
   "outputs": [
    {
     "data": {
      "text/plain": [
       "[(0, 2),\n",
       " (1, 3),\n",
       " (2, 3),\n",
       " (3, 3),\n",
       " (4, 2),\n",
       " (5, 3),\n",
       " (6, 2),\n",
       " (7, 2),\n",
       " (8, 3),\n",
       " (9, 1)]"
      ]
     },
     "execution_count": 14,
     "metadata": {},
     "output_type": "execute_result"
    }
   ],
   "source": [
    "num_friends_by_id= [(user[\"id\"], len(user[\"friends\"]))for user in users]\n",
    "num_friends_by_id"
   ]
  },
  {
   "cell_type": "code",
   "execution_count": 15,
   "id": "ea1c8fff",
   "metadata": {},
   "outputs": [
    {
     "data": {
      "text/plain": [
       "[(1, 3),\n",
       " (2, 3),\n",
       " (3, 3),\n",
       " (5, 3),\n",
       " (8, 3),\n",
       " (0, 2),\n",
       " (4, 2),\n",
       " (6, 2),\n",
       " (7, 2),\n",
       " (9, 1)]"
      ]
     },
     "execution_count": 15,
     "metadata": {},
     "output_type": "execute_result"
    }
   ],
   "source": [
    "sorted(num_friends_by_id, key= lambda num_friends_by_id:num_friends_by_id[1], reverse=True)"
   ]
  },
  {
   "cell_type": "code",
   "execution_count": 16,
   "id": "790c3f26",
   "metadata": {},
   "outputs": [
    {
     "data": {
      "text/plain": [
       "[(9, 1),\n",
       " (8, 3),\n",
       " (7, 2),\n",
       " (6, 2),\n",
       " (5, 3),\n",
       " (4, 2),\n",
       " (3, 3),\n",
       " (2, 3),\n",
       " (1, 3),\n",
       " (0, 2)]"
      ]
     },
     "execution_count": 16,
     "metadata": {},
     "output_type": "execute_result"
    }
   ],
   "source": [
    "# create a list (user_id, number_of_friends)\n",
    "num_friends_by_id = [(user[\"id\"], number_of_friends(user))\n",
    " for user in users]\n",
    "sorted(num_friends_by_id, # get it sorted\n",
    " key=lambda  num_friends: num_friends, # by num_friends\n",
    " reverse=True)"
   ]
  },
  {
   "cell_type": "code",
   "execution_count": 17,
   "id": "329399f3",
   "metadata": {},
   "outputs": [
    {
     "data": {
      "text/plain": [
       "5"
      ]
     },
     "execution_count": 17,
     "metadata": {},
     "output_type": "execute_result"
    }
   ],
   "source": [
    "[(4,5,6),(1,2,3)][0][1]"
   ]
  },
  {
   "cell_type": "markdown",
   "id": "a101d3db",
   "metadata": {},
   "source": [
    "## Data Scientist You May Know"
   ]
  },
  {
   "cell_type": "code",
   "execution_count": 18,
   "id": "a3df5f0f",
   "metadata": {},
   "outputs": [
    {
     "data": {
      "text/plain": [
       "[0, 2, 3, 0, 1, 3]"
      ]
     },
     "execution_count": 18,
     "metadata": {},
     "output_type": "execute_result"
    }
   ],
   "source": [
    "def friends_of_friends_ids_bad(user):\n",
    "    return [foaf[\"id\"] for friend in user[\"friends\"]\n",
    "    for foaf in friend[\"friends\"]]\n",
    "#[ friends_of_friends_ids_bad(user) for user in users]\n",
    "friends_of_friends_ids_bad(users[0])"
   ]
  },
  {
   "cell_type": "code",
   "execution_count": 19,
   "id": "052b7076",
   "metadata": {},
   "outputs": [
    {
     "data": {
      "text/plain": [
       "[(0, 1),\n",
       " (0, 2),\n",
       " (1, 2),\n",
       " (1, 3),\n",
       " (2, 3),\n",
       " (3, 4),\n",
       " (4, 5),\n",
       " (5, 6),\n",
       " (5, 7),\n",
       " (6, 8),\n",
       " (7, 8),\n",
       " (8, 9)]"
      ]
     },
     "execution_count": 19,
     "metadata": {},
     "output_type": "execute_result"
    }
   ],
   "source": [
    "[(0, 1), (0, 2), (1, 2), (1, 3), (2, 3), (3, 4),\n",
    " (4, 5), (5, 6), (5, 7), (6, 8), (7, 8), (8, 9)]"
   ]
  },
  {
   "cell_type": "code",
   "execution_count": 20,
   "id": "f58e72b2",
   "metadata": {},
   "outputs": [],
   "source": [
    "def not_same_id(user,other_user):\n",
    "    return user[\"id\"]!=other_user[\"id\"]\n"
   ]
  },
  {
   "cell_type": "code",
   "execution_count": 21,
   "id": "4e8b8e4a",
   "metadata": {},
   "outputs": [],
   "source": [
    "def not_friend(user,other_user):\n",
    "    return all( not_same_id(friend, other_user) for friend in user[\"friends\"])"
   ]
  },
  {
   "cell_type": "code",
   "execution_count": 22,
   "id": "ea49ba95",
   "metadata": {},
   "outputs": [],
   "source": [
    "from collections import Counter\n",
    "def mutual_friends(user):\n",
    "    return Counter(foaf[\"id\"] for friend in user[\"friends\"] for foaf in friend[\"friends\"] if not_same_id(user,foaf) and not_friend(user, foaf))"
   ]
  },
  {
   "cell_type": "code",
   "execution_count": 23,
   "id": "1184497f",
   "metadata": {},
   "outputs": [
    {
     "data": {
      "text/plain": [
       "Counter({0: 2, 5: 1})"
      ]
     },
     "execution_count": 23,
     "metadata": {},
     "output_type": "execute_result"
    }
   ],
   "source": [
    "mutual_friends(users[3])"
   ]
  },
  {
   "cell_type": "code",
   "execution_count": 24,
   "id": "51076108",
   "metadata": {},
   "outputs": [
    {
     "name": "stdout",
     "output_type": "stream",
     "text": [
      "hello\n"
     ]
    }
   ],
   "source": [
    "print(\"hello\")"
   ]
  },
  {
   "cell_type": "code",
   "execution_count": 25,
   "id": "34a9a07e",
   "metadata": {},
   "outputs": [
    {
     "name": "stdout",
     "output_type": "stream",
     "text": [
      "True\n",
      "False\n",
      "False\n",
      "False\n",
      "False\n",
      "False\n",
      "False\n",
      "False\n",
      "False\n",
      "False\n",
      "False\n",
      "False\n",
      "False\n",
      "False\n",
      "False\n",
      "False\n",
      "False\n",
      "False\n",
      "False\n",
      "False\n"
     ]
    }
   ],
   "source": [
    "for i in range(20):\n",
    "    print(i/2==0)"
   ]
  },
  {
   "cell_type": "code",
   "execution_count": 26,
   "id": "b1d69f82",
   "metadata": {},
   "outputs": [
    {
     "name": "stdout",
     "output_type": "stream",
     "text": [
      "0\n",
      "1\n",
      "2\n",
      "3\n",
      "4\n",
      "5\n",
      "6\n",
      "7\n",
      "8\n",
      "9\n"
     ]
    }
   ],
   "source": [
    "for i in range(10):\n",
    "    print(i)"
   ]
  },
  {
   "cell_type": "code",
   "execution_count": 27,
   "id": "ac90c9ed",
   "metadata": {},
   "outputs": [
    {
     "name": "stdout",
     "output_type": "stream",
     "text": [
      "[0, 1, 2, 3, 4, 5, 6, 7, 8, 9, 10, 11, 12, 13, 14, 15, 16, 17, 18, 19]\n"
     ]
    }
   ],
   "source": [
    "print(list(range(20)))"
   ]
  },
  {
   "cell_type": "code",
   "execution_count": 28,
   "id": "dcc9bfe8",
   "metadata": {},
   "outputs": [],
   "source": [
    "users=[{'id': 0, 'name': 'Hero'},\n",
    " {'id': 1, 'name': 'Dunn'},\n",
    " {'id': 2, 'name': 'Sue'},\n",
    " {'id': 3, 'name': 'Chi'},\n",
    " {'id': 4, 'name': 'Thor'},\n",
    " {'id': 5, 'name': 'Clive'},\n",
    " {'id': 6, 'name': 'Hicks'},\n",
    " {'id': 7, 'name': 'Devin'},\n",
    " {'id': 8, 'name': 'Kate'},\n",
    " {'id': 9, 'name': 'Klein'}]\n",
    "\n",
    "interests = [\n",
    " (0, \"Hadoop\"), (0, \"Big Data\"), (0, \"HBase\"), (0, \"Java\"),\n",
    " (0, \"Spark\"), (0, \"Storm\"), (0, \"Cassandra\"),\n",
    " (1, \"NoSQL\"), (1, \"MongoDB\"), (1, \"Cassandra\"), (1, \"HBase\"),\n",
    " (1, \"Postgres\"), (2, \"Python\"), (2, \"scikit-learn\"), (2, \"scipy\"),\n",
    " (2, \"numpy\"), (2, \"statsmodels\"), (2, \"pandas\"), (3, \"R\"), (3, \"Python\"),\n",
    " (3, \"statistics\"), (3, \"regression\"), (3, \"probability\"),\n",
    " (4, \"machine learning\"), (4, \"regression\"), (4, \"decision trees\"),\n",
    " (4, \"libsvm\"), (5, \"Python\"), (5, \"R\"), (5, \"Java\"), (5, \"C++\"),\n",
    " (5, \"Haskell\"), (5, \"programming languages\"), (6, \"statistics\"),\n",
    " (6, \"probability\"), (6, \"mathematics\"), (6, \"theory\"),\n",
    " (7, \"machine learning\"), (7, \"scikit-learn\"), (7, \"Mahout\"),\n",
    " (7, \"neural networks\"), (8, \"neural networks\"), (8, \"deep learning\"),\n",
    " (8, \"Big Data\"), (8, \"artificial intelligence\"), (9, \"Hadoop\"),\n",
    " (9, \"Java\"), (9, \"MapReduce\"), (9, \"Big Data\")\n",
    "]\n",
    "for user in users:\n",
    "    user[\"interest\"]=[]\n",
    "for id, interest in interests:\n",
    "    users[id][\"interest\"].append(interest)"
   ]
  },
  {
   "cell_type": "code",
   "execution_count": 29,
   "id": "38fb124b",
   "metadata": {},
   "outputs": [
    {
     "name": "stdout",
     "output_type": "stream",
     "text": [
      "[{'id': 0, 'name': 'Hero', 'interest': ['Hadoop', 'Big Data', 'HBase', 'Java', 'Spark', 'Storm', 'Cassandra']}, {'id': 1, 'name': 'Dunn', 'interest': ['NoSQL', 'MongoDB', 'Cassandra', 'HBase', 'Postgres']}, {'id': 2, 'name': 'Sue', 'interest': ['Python', 'scikit-learn', 'scipy', 'numpy', 'statsmodels', 'pandas']}, {'id': 3, 'name': 'Chi', 'interest': ['R', 'Python', 'statistics', 'regression', 'probability']}, {'id': 4, 'name': 'Thor', 'interest': ['machine learning', 'regression', 'decision trees', 'libsvm']}, {'id': 5, 'name': 'Clive', 'interest': ['Python', 'R', 'Java', 'C++', 'Haskell', 'programming languages']}, {'id': 6, 'name': 'Hicks', 'interest': ['statistics', 'probability', 'mathematics', 'theory']}, {'id': 7, 'name': 'Devin', 'interest': ['machine learning', 'scikit-learn', 'Mahout', 'neural networks']}, {'id': 8, 'name': 'Kate', 'interest': ['neural networks', 'deep learning', 'Big Data', 'artificial intelligence']}, {'id': 9, 'name': 'Klein', 'interest': ['Hadoop', 'Java', 'MapReduce', 'Big Data']}]\n"
     ]
    }
   ],
   "source": [
    "print(users)"
   ]
  },
  {
   "cell_type": "code",
   "execution_count": 30,
   "id": "2c0ef7ac",
   "metadata": {},
   "outputs": [],
   "source": [
    "from collections import Counter\n",
    "def findCommonInterest(selectedUser):\n",
    "    return Counter([ user[\"id\"] for user in users for selectedUserInterest in selectedUser[\"interest\"] if selectedUserInterest in user['interest'] and selectedUser[\"id\"]!=user[\"id\"]])\n",
    "    \n",
    "    "
   ]
  },
  {
   "cell_type": "code",
   "execution_count": 31,
   "id": "25e0967b",
   "metadata": {},
   "outputs": [
    {
     "data": {
      "text/plain": [
       "Counter({1: 2, 5: 1, 8: 1, 9: 3})"
      ]
     },
     "execution_count": 31,
     "metadata": {},
     "output_type": "execute_result"
    }
   ],
   "source": [
    "findCommonInterest(users[0])"
   ]
  },
  {
   "cell_type": "code",
   "execution_count": 32,
   "id": "7c468abd",
   "metadata": {},
   "outputs": [
    {
     "data": {
      "text/plain": [
       "[0, 2, 3, 3, 9]"
      ]
     },
     "execution_count": 32,
     "metadata": {},
     "output_type": "execute_result"
    }
   ],
   "source": [
    "from collections import Counter\n",
    "def findCommonInterest(selectedUser):\n",
    "    return [ user[\"id\"] for user in users for selectedUserInterest in selectedUser[\"interest\"] if selectedUserInterest in user['interest'] and selectedUser[\"id\"]!=user[\"id\"]]\n",
    "    \n",
    "findCommonInterest(users[5])"
   ]
  },
  {
   "cell_type": "markdown",
   "id": "f814ac54",
   "metadata": {},
   "source": [
    "## Salary and Tenures\n",
    "The defaultdict act exactly like normal dictioary with default values for those keys that are not present instead of raising an error unlike normal dictionary."
   ]
  },
  {
   "cell_type": "code",
   "execution_count": 33,
   "id": "7b8a5490",
   "metadata": {},
   "outputs": [
    {
     "name": "stdout",
     "output_type": "stream",
     "text": [
      "defaultdict(<class 'list'>, {8.7: [83000], 8.1: [88000], 0.7: [48000], 6: [76000], 6.5: [69000], 7.5: [76000], 2.5: [60000], 10: [83000], 1.9: [48000], 4.2: [63000]})\n"
     ]
    }
   ],
   "source": [
    "salaries_and_tenures = [(83000, 8.7), (88000, 8.1),\n",
    " (48000, 0.7), (76000, 6),\n",
    " (69000, 6.5), (76000, 7.5),\n",
    " (60000, 2.5), (83000, 10),\n",
    " (48000, 1.9), (63000, 4.2)]\n",
    "from collections import defaultdict\n",
    "salaryByExperience=defaultdict(list)\n",
    "for salary, experiene in salaries_and_tenures:\n",
    "    salaryByExperience[experiene].append(salary)\n",
    "print(salaryByExperience)"
   ]
  },
  {
   "cell_type": "code",
   "execution_count": 34,
   "id": "8144b597",
   "metadata": {},
   "outputs": [
    {
     "name": "stdout",
     "output_type": "stream",
     "text": [
      "{8.7: 83000.0, 8.1: 88000.0, 0.7: 48000.0, 6: 76000.0, 6.5: 69000.0, 7.5: 76000.0, 2.5: 60000.0, 10: 83000.0, 1.9: 48000.0, 4.2: 63000.0}\n"
     ]
    }
   ],
   "source": [
    "\n",
    "average_salary_by_tenure = {\n",
    " tenure : sum(salaries) / len(salaries)\n",
    " for tenure, salaries in salaryByExperience.items()\n",
    "}\n",
    "print(average_salary_by_tenure)\n",
    "\n",
    "# Default value of an empty list will be printed\n",
    "#salaryByExperience[\"Hello\"]"
   ]
  },
  {
   "cell_type": "code",
   "execution_count": 35,
   "id": "bb68477d",
   "metadata": {},
   "outputs": [
    {
     "data": {
      "text/plain": [
       "[<matplotlib.lines.Line2D at 0x21340945f90>]"
      ]
     },
     "execution_count": 35,
     "metadata": {},
     "output_type": "execute_result"
    },
    {
     "data": {
      "image/png": "[encoded data removed]",
      "text/plain": [
       "<Figure size 640x480 with 1 Axes>"
      ]
     },
     "metadata": {},
     "output_type": "display_data"
    }
   ],
   "source": [
    "from matplotlib import pyplot as myplot\n",
    "#salaryByExperience.keys()\n",
    "salaryByExperience.values()\n",
    "myplot.plot(salaryByExperience.keys(),salaryByExperience.values(),color='g',marker='o', linestyle='none')"
   ]
  },
  {
   "cell_type": "code",
   "execution_count": 36,
   "id": "a7c164f9",
   "metadata": {},
   "outputs": [
    {
     "name": "stdout",
     "output_type": "stream",
     "text": [
      "defaultdict(<class 'list'>, {'More than five years': [83000, 88000, 76000, 69000, 76000, 83000], 'less than two years': [48000, 48000], 'less than five years': [60000, 63000]})\n"
     ]
    }
   ],
   "source": [
    "salaries_and_tenures = [(83000, 8.7), (88000, 8.1),\n",
    " (48000, 0.7), (76000, 6),\n",
    " (69000, 6.5), (76000, 7.5),\n",
    " (60000, 2.5), (83000, 10),\n",
    " (48000, 1.9), (63000, 4.2)]\n",
    "def tenure(year):\n",
    "    if year<2:\n",
    "        return \"less than two years\"\n",
    "    elif year<5:\n",
    "        return \"less than five years\"\n",
    "    else:\n",
    "        return \"More than five years\"\n",
    "\n",
    "\n",
    "tenure_groups= defaultdict(list)\n",
    "[tenure_groups[tenure(year)].append(salary) for salary,year in salaries_and_tenures\n",
    "]\n",
    "print(tenure_groups)"
   ]
  },
  {
   "cell_type": "code",
   "execution_count": 37,
   "id": "4577c2ae",
   "metadata": {},
   "outputs": [
    {
     "name": "stdout",
     "output_type": "stream",
     "text": [
      "{'More than five years': 79166.66666666667, 'less than two years': 48000.0, 'less than five years': 61500.0}\n"
     ]
    }
   ],
   "source": [
    "#{ experiene: sum(salaries)/len(salaries) for experience, salaries in tenure_groups}\n",
    "bucket_dict={}\n",
    "for tenure, salaries in tenure_groups.items():\n",
    "    bucket_dict[tenure]=sum(salaries)/len(salaries)\n",
    "print(bucket_dict)"
   ]
  },
  {
   "cell_type": "code",
   "execution_count": 38,
   "id": "1ddbadeb",
   "metadata": {},
   "outputs": [
    {
     "name": "stdout",
     "output_type": "stream",
     "text": [
      "['Descision', 'Tree']\n"
     ]
    }
   ],
   "source": [
    "print(\"Descision Tree\".split())"
   ]
  },
  {
   "cell_type": "code",
   "execution_count": 39,
   "id": "fd780a17",
   "metadata": {},
   "outputs": [
    {
     "name": "stdout",
     "output_type": "stream",
     "text": [
      "Counter({'Big Data': 3, 'Java': 3, 'Python': 3, 'Hadoop': 2, 'HBase': 2, 'Cassandra': 2, 'scikit-learn': 2, 'R': 2, 'statistics': 2, 'regression': 2, 'probability': 2, 'machine learning': 2, 'neural networks': 2, 'Spark': 1, 'Storm': 1, 'NoSQL': 1, 'MongoDB': 1, 'Postgres': 1, 'scipy': 1, 'numpy': 1, 'statsmodels': 1, 'pandas': 1, 'decision trees': 1, 'libsvm': 1, 'C++': 1, 'Haskell': 1, 'programming languages': 1, 'mathematics': 1, 'theory': 1, 'Mahout': 1, 'deep learning': 1, 'artificial intelligence': 1, 'MapReduce': 1})\n"
     ]
    }
   ],
   "source": [
    "from collections import Counter\n",
    "interests = [\n",
    " (0, \"Hadoop\"), (0, \"Big Data\"), (0, \"HBase\"), (0, \"Java\"),\n",
    " (0, \"Spark\"), (0, \"Storm\"), (0, \"Cassandra\"),\n",
    " (1, \"NoSQL\"), (1, \"MongoDB\"), (1, \"Cassandra\"), (1, \"HBase\"),\n",
    " (1, \"Postgres\"), (2, \"Python\"), (2, \"scikit-learn\"), (2, \"scipy\"),\n",
    " (2, \"numpy\"), (2, \"statsmodels\"), (2, \"pandas\"), (3, \"R\"), (3, \"Python\"),\n",
    " (3, \"statistics\"), (3, \"regression\"), (3, \"probability\"),\n",
    " (4, \"machine learning\"), (4, \"regression\"), (4, \"decision trees\"),\n",
    " (4, \"libsvm\"), (5, \"Python\"), (5, \"R\"), (5, \"Java\"), (5, \"C++\"),\n",
    " (5, \"Haskell\"), (5, \"programming languages\"), (6, \"statistics\"),\n",
    " (6, \"probability\"), (6, \"mathematics\"), (6, \"theory\"),\n",
    " (7, \"machine learning\"), (7, \"scikit-learn\"), (7, \"Mahout\"),\n",
    " (7, \"neural networks\"), (8, \"neural networks\"), (8, \"deep learning\"),\n",
    " (8, \"Big Data\"), (8, \"artificial intelligence\"), (9, \"Hadoop\"),\n",
    " (9, \"Java\"), (9, \"MapReduce\"), (9, \"Big Data\")\n",
    "]\n",
    "interest_count=Counter(interest for id, interest in interests)\n",
    "print(interest_count)"
   ]
  },
  {
   "cell_type": "markdown",
   "id": "ae64df44",
   "metadata": {},
   "source": [
    " ### Make use of \" \\ \" continue to write code in next line if it does not fit in one line as show below. \n",
    " Syntaxt logic: What type of operation you want to do followed by \\. like + \\ or accessing methods of data frame using dot \".\" followed by \\"
   ]
  },
  {
   "cell_type": "code",
   "execution_count": 40,
   "id": "cfc1c3cc",
   "metadata": {},
   "outputs": [
    {
     "data": {
      "text/html": [
       "<div>\n",
       "<style scoped>\n",
       "    .dataframe tbody tr th:only-of-type {\n",
       "        vertical-align: middle;\n",
       "    }\n",
       "\n",
       "    .dataframe tbody tr th {\n",
       "        vertical-align: top;\n",
       "    }\n",
       "\n",
       "    .dataframe thead th {\n",
       "        text-align: right;\n",
       "    }\n",
       "</style>\n",
       "<table border=\"1\" class=\"dataframe\">\n",
       "  <thead>\n",
       "    <tr style=\"text-align: right;\">\n",
       "      <th></th>\n",
       "      <th>A</th>\n",
       "      <th>B</th>\n",
       "    </tr>\n",
       "  </thead>\n",
       "  <tbody>\n",
       "    <tr>\n",
       "      <th>0</th>\n",
       "      <td>0.028559</td>\n",
       "      <td>0.189062</td>\n",
       "    </tr>\n",
       "    <tr>\n",
       "      <th>1</th>\n",
       "      <td>1.933635</td>\n",
       "      <td>0.555300</td>\n",
       "    </tr>\n",
       "    <tr>\n",
       "      <th>2</th>\n",
       "      <td>0.230062</td>\n",
       "      <td>1.374552</td>\n",
       "    </tr>\n",
       "    <tr>\n",
       "      <th>3</th>\n",
       "      <td>2.316281</td>\n",
       "      <td>0.234999</td>\n",
       "    </tr>\n",
       "    <tr>\n",
       "      <th>4</th>\n",
       "      <td>0.407618</td>\n",
       "      <td>0.914350</td>\n",
       "    </tr>\n",
       "    <tr>\n",
       "      <th>5</th>\n",
       "      <td>1.872307</td>\n",
       "      <td>1.839277</td>\n",
       "    </tr>\n",
       "  </tbody>\n",
       "</table>\n",
       "</div>"
      ],
      "text/plain": [
       "          A         B\n",
       "0  0.028559  0.189062\n",
       "1  1.933635  0.555300\n",
       "2  0.230062  1.374552\n",
       "3  2.316281  0.234999\n",
       "4  0.407618  0.914350\n",
       "5  1.872307  1.839277"
      ]
     },
     "execution_count": 40,
     "metadata": {},
     "output_type": "execute_result"
    }
   ],
   "source": [
    "import pandas as pd\n",
    "import numpy as np\n",
    "pd.DataFrame(np.random.randn(6,4), columns=[\"A\",\"B\",\"C\",\"D\"])[[\"A\",\"B\"]].\\\n",
    "applymap(lambda x: abs(x))"
   ]
  },
  {
   "cell_type": "code",
   "execution_count": 41,
   "id": "3c066094",
   "metadata": {},
   "outputs": [
    {
     "name": "stdout",
     "output_type": "stream",
     "text": [
      "1\n",
      "2\n",
      "3\n",
      "4\n",
      "5\n"
     ]
    }
   ],
   "source": [
    "for i in [1, 2, 3, 4, 5]:\n",
    " # notice the blank line\n",
    " print(i)\n"
   ]
  },
  {
   "cell_type": "code",
   "execution_count": 41,
   "id": "0fc8f3b5",
   "metadata": {},
   "outputs": [
    {
     "name": "stderr",
     "output_type": "stream",
     "text": [
      "UsageError: Line magic function `%paste` not found.\n"
     ]
    }
   ],
   "source": [
    "%paste"
   ]
  },
  {
   "cell_type": "code",
   "execution_count": null,
   "id": "9aa3eb57",
   "metadata": {
    "scrolled": true
   },
   "outputs": [],
   "source": [
    "pip install IPython"
   ]
  },
  {
   "cell_type": "code",
   "execution_count": null,
   "id": "a820e9fd",
   "metadata": {},
   "outputs": [],
   "source": [
    "import IPython\n",
    "print(IPython.__version__)"
   ]
  },
  {
   "cell_type": "code",
   "execution_count": null,
   "id": "f4df3b4d",
   "metadata": {},
   "outputs": [],
   "source": [
    "%paste"
   ]
  },
  {
   "cell_type": "code",
   "execution_count": null,
   "id": "0ff14924",
   "metadata": {},
   "outputs": [],
   "source": [
    "%load_ext IPython.core.interactiveshell\n"
   ]
  },
  {
   "cell_type": "code",
   "execution_count": null,
   "id": "baf0d9af",
   "metadata": {},
   "outputs": [],
   "source": [
    "%paste"
   ]
  },
  {
   "cell_type": "code",
   "execution_count": null,
   "id": "94b72e7e",
   "metadata": {},
   "outputs": [],
   "source": [
    "%magic\n"
   ]
  },
  {
   "cell_type": "code",
   "execution_count": null,
   "id": "6b898c8c",
   "metadata": {},
   "outputs": [],
   "source": [
    "%cpaste"
   ]
  },
  {
   "cell_type": "code",
   "execution_count": null,
   "id": "c5cfd6f9",
   "metadata": {},
   "outputs": [],
   "source": [
    "%magic"
   ]
  },
  {
   "cell_type": "code",
   "execution_count": null,
   "id": "468b64df",
   "metadata": {},
   "outputs": [],
   "source": [
    "from IPython.core.interactiveshell import InteractiveShell\n",
    "shell = InteractiveShell.instance()\n",
    "shell.register_magic_function(shell._pasted, magic_kind='line', magic_name='paste')\n"
   ]
  },
  {
   "cell_type": "code",
   "execution_count": null,
   "id": "fe865ae7",
   "metadata": {},
   "outputs": [],
   "source": [
    "try:\n",
    "    0/0\n",
    "except:\n",
    "    print(\"Some mathematical error occured\")\n",
    "for i in range(10):\n",
    "    print(i)"
   ]
  },
  {
   "cell_type": "code",
   "execution_count": null,
   "id": "9242ad67",
   "metadata": {},
   "outputs": [],
   "source": [
    "print(0/0)\n",
    "for i in range(10):\n",
    "    print(i)"
   ]
  },
  {
   "cell_type": "code",
   "execution_count": null,
   "id": "7de65cc2",
   "metadata": {},
   "outputs": [],
   "source": [
    "grades = { \"Joel\" : 80, \"Tim\" : 95,\"Karan\":50 }\n",
    "80 in grades.values()"
   ]
  },
  {
   "cell_type": "code",
   "execution_count": null,
   "id": "4c1a9d75",
   "metadata": {},
   "outputs": [],
   "source": [
    "keys,values = [grades.keys(), grades.values()]\n",
    "print(keys)\n",
    "print(values)"
   ]
  },
  {
   "cell_type": "code",
   "execution_count": null,
   "id": "76149c95",
   "metadata": {},
   "outputs": [],
   "source": [
    "grades.get(\"suman\",\"None\")"
   ]
  },
  {
   "cell_type": "code",
   "execution_count": null,
   "id": "f2a2f940",
   "metadata": {},
   "outputs": [],
   "source": [
    "[\"even\" if i%2==0 else \"odd\"  for i in range(10) if i>4]"
   ]
  },
  {
   "cell_type": "code",
   "execution_count": null,
   "id": "a0a4ffd8",
   "metadata": {},
   "outputs": [],
   "source": [
    "set([\"even\" if i%2==0 else \"odd\"  for i in range(10) if i>4])"
   ]
  },
  {
   "cell_type": "code",
   "execution_count": null,
   "id": "f95c59a5",
   "metadata": {},
   "outputs": [],
   "source": [
    "np.random.seed(10)\n",
    "[int(value) for value in np.random.randn(10)]"
   ]
  },
  {
   "cell_type": "code",
   "execution_count": null,
   "id": "df149516",
   "metadata": {},
   "outputs": [],
   "source": [
    "def myString(message):\n",
    "    return message\n",
    "message=myString(None)\n",
    "newMessage=myString(\"\")\n",
    "\n",
    "print(message and message[0])\n"
   ]
  },
  {
   "cell_type": "code",
   "execution_count": null,
   "id": "7ede4f96",
   "metadata": {},
   "outputs": [],
   "source": [
    "x = sorted([-4, 1, -2, 3], key=abs)\n",
    "x"
   ]
  },
  {
   "cell_type": "code",
   "execution_count": null,
   "id": "b3b6f394",
   "metadata": {},
   "outputs": [],
   "source": [
    "sorted([\"Karn\",\"Mahesh\",\"RishiKesh\"], key=len, reverse=True)"
   ]
  },
  {
   "cell_type": "code",
   "execution_count": null,
   "id": "8702d151",
   "metadata": {},
   "outputs": [],
   "source": [
    "def square_numbers(n):\n",
    "    for i in range(n):\n",
    "        yield i**2\n",
    "generated_object=square_numbers(3)\n",
    "print([value for value in generated_object])\n",
    "print(next(generated_object))"
   ]
  },
  {
   "cell_type": "code",
   "execution_count": null,
   "id": "20f2b88c",
   "metadata": {},
   "outputs": [],
   "source": [
    "next(generated_object)"
   ]
  },
  {
   "cell_type": "code",
   "execution_count": null,
   "id": "568b3bd0",
   "metadata": {},
   "outputs": [],
   "source": [
    "my_dict = {\n",
    "    'name': 'Alice',\n",
    "    'age': 30,\n",
    "    'city': 'New York',\n",
    "    'job': 'Software Engineer'\n",
    "}\n",
    "\n"
   ]
  },
  {
   "cell_type": "code",
   "execution_count": null,
   "id": "eab985d5",
   "metadata": {},
   "outputs": [],
   "source": [
    "my_dict.iteritems() "
   ]
  },
  {
   "cell_type": "code",
   "execution_count": null,
   "id": "d19c67bc",
   "metadata": {},
   "outputs": [],
   "source": [
    "for key,value in my_dict.iteritems():\n",
    "    print(key,value)"
   ]
  },
  {
   "cell_type": "markdown",
   "id": "33cd6139",
   "metadata": {},
   "source": [
    "### Acheiving the functionlity of older version"
   ]
  },
  {
   "cell_type": "code",
   "execution_count": null,
   "id": "1d8255f3",
   "metadata": {},
   "outputs": [],
   "source": [
    "#pip install backports.csv"
   ]
  },
  {
   "cell_type": "code",
   "execution_count": 42,
   "id": "06f34a6d",
   "metadata": {},
   "outputs": [
    {
     "ename": "ModuleNotFoundError",
     "evalue": "No module named 'backports.collections'",
     "output_type": "error",
     "traceback": [
      "\u001b[1;31m---------------------------------------------------------------------------\u001b[0m",
      "\u001b[1;31mModuleNotFoundError\u001b[0m                       Traceback (most recent call last)",
      "Cell \u001b[1;32mIn[42], line 1\u001b[0m\n\u001b[1;32m----> 1\u001b[0m \u001b[38;5;28;01mfrom\u001b[39;00m \u001b[38;5;21;01mbackports\u001b[39;00m\u001b[38;5;21;01m.\u001b[39;00m\u001b[38;5;21;01mcollections\u001b[39;00m \u001b[38;5;28;01mimport\u001b[39;00m iteritems\n\u001b[0;32m      2\u001b[0m \u001b[38;5;28;01mfor\u001b[39;00m key,value \u001b[38;5;129;01min\u001b[39;00m iteritems(my_dict):\n\u001b[0;32m      3\u001b[0m     \u001b[38;5;28mprint\u001b[39m(key,value)\n",
      "\u001b[1;31mModuleNotFoundError\u001b[0m: No module named 'backports.collections'"
     ]
    }
   ],
   "source": [
    "from backports.collections import iteritems\n",
    "for key,value in iteritems(my_dict):\n",
    "    print(key,value)"
   ]
  },
  {
   "cell_type": "markdown",
   "id": "10c5f216",
   "metadata": {},
   "source": [
    "### We have two different types of randomness module\n",
    "1. Python's inbuilt which is for simpler use\n",
    "2. Numpy which is more advanced "
   ]
  },
  {
   "cell_type": "code",
   "execution_count": 51,
   "id": "895d459b",
   "metadata": {},
   "outputs": [
    {
     "data": {
      "text/plain": [
       "0"
      ]
     },
     "execution_count": 51,
     "metadata": {},
     "output_type": "execute_result"
    }
   ],
   "source": [
    "import random\n",
    "random.seed(2)\n",
    "random.randrange(10)\n"
   ]
  },
  {
   "cell_type": "code",
   "execution_count": 66,
   "id": "cb77e332",
   "metadata": {},
   "outputs": [],
   "source": [
    "class Set: # these are the member functions # every one takes a first parameter \"self\" (another convention) # that refers to the particular Set object being used \n",
    "    def __init__(self, values=None): \n",
    "        \"\"\"This is the constructor.        It gets called when you create a new Set.        You would use it like\"\"\"\n",
    "        self.dict={}\n",
    "        if values is not None:\n",
    "            for value in values:\n",
    "                self.add(value)\n",
    "    def __repr__(self):\n",
    "        return \"Str\"+ str(self.dict.keys())\n",
    "    \n",
    "    def add(self,value):\n",
    "        self.dict[value]=True\n",
    "    def contains(self, value):\n",
    "        return value in self.dict\n",
    "    def remove(self, value):\n",
    "        del self.dict[value]\n",
    "        "
   ]
  },
  {
   "cell_type": "code",
   "execution_count": 67,
   "id": "4c18cbf8",
   "metadata": {},
   "outputs": [],
   "source": [
    "s=Set([1,2,2,4])"
   ]
  },
  {
   "cell_type": "code",
   "execution_count": 68,
   "id": "1d28fa9f",
   "metadata": {},
   "outputs": [],
   "source": [
    "s.add(3)"
   ]
  },
  {
   "cell_type": "code",
   "execution_count": 69,
   "id": "e0360289",
   "metadata": {},
   "outputs": [
    {
     "data": {
      "text/plain": [
       "<__main__.Set at 0x21344358950>"
      ]
     },
     "execution_count": 69,
     "metadata": {},
     "output_type": "execute_result"
    }
   ],
   "source": [
    "s"
   ]
  },
  {
   "cell_type": "code",
   "execution_count": 1,
   "id": "5e7f1ccf",
   "metadata": {},
   "outputs": [
    {
     "name": "stdout",
     "output_type": "stream",
     "text": [
      "Standardization\n"
     ]
    }
   ],
   "source": [
    "print(\"Standardization\")"
   ]
  },
  {
   "cell_type": "markdown",
   "id": "8c96a8b9",
   "metadata": {},
   "source": [
    "# Matrix"
   ]
  },
  {
   "cell_type": "code",
   "execution_count": 1,
   "id": "b1773ed6",
   "metadata": {},
   "outputs": [],
   "source": [
    "A = [[1, 2, 3], # A has 2 rows and 3 columns\n",
    " [4, 5, 6]]\n",
    "B = [[1, 2], # B has 3 rows and 2 columns\n",
    " [3, 4],\n",
    " [5, 6]]"
   ]
  },
  {
   "cell_type": "code",
   "execution_count": 2,
   "id": "a9c1f1b5",
   "metadata": {},
   "outputs": [],
   "source": [
    "# getting particular rows and column\n",
    "def get_row(Matrix, row_position):\n",
    "    return Matrix[row_position]\n",
    "def get_column(Matrix, column_position):\n",
    "    return [ row[column_position] for row in Matrix]"
   ]
  },
  {
   "cell_type": "code",
   "execution_count": 8,
   "id": "ed739a43",
   "metadata": {},
   "outputs": [
    {
     "data": {
      "text/plain": [
       "3"
      ]
     },
     "execution_count": 8,
     "metadata": {},
     "output_type": "execute_result"
    }
   ],
   "source": [
    "import pandas as pd\n",
    "b1=[[item] for item in get_column(B,1)]\n",
    "len(b1)"
   ]
  },
  {
   "cell_type": "code",
   "execution_count": 5,
   "id": "b61a4edd",
   "metadata": {},
   "outputs": [
    {
     "name": "stdout",
     "output_type": "stream",
     "text": [
      "[[1, 2], [3, 4], [5, 6]]\n"
     ]
    }
   ],
   "source": [
    "print(B)"
   ]
  },
  {
   "cell_type": "code",
   "execution_count": 9,
   "id": "8c858d77",
   "metadata": {},
   "outputs": [
    {
     "data": {
      "text/plain": [
       "3"
      ]
     },
     "execution_count": 9,
     "metadata": {},
     "output_type": "execute_result"
    }
   ],
   "source": [
    "b2=[item for item in get_column(B,1)]\n",
    "len(b2)"
   ]
  },
  {
   "cell_type": "code",
   "execution_count": 27,
   "id": "e5952c45",
   "metadata": {},
   "outputs": [],
   "source": [
    "# Making Diagnoal Matrix\n",
    "def matrix_maker(num_row, num_colum, fill_function):\n",
    "    return [ [fill_function(i,j) for i in range(num_row) ]\n",
    "            for j in range(num_colum)]"
   ]
  },
  {
   "cell_type": "code",
   "execution_count": 28,
   "id": "735246af",
   "metadata": {},
   "outputs": [],
   "source": [
    "def fill_function(i,j):\n",
    "    return 1 if i==j else 0"
   ]
  },
  {
   "cell_type": "code",
   "execution_count": 29,
   "id": "b718509d",
   "metadata": {},
   "outputs": [
    {
     "data": {
      "text/plain": [
       "[[1, 0, 0], [0, 1, 0], [0, 0, 1]]"
      ]
     },
     "execution_count": 29,
     "metadata": {},
     "output_type": "execute_result"
    }
   ],
   "source": [
    "matrix_maker(3,3, fill_function)"
   ]
  },
  {
   "cell_type": "markdown",
   "id": "0249aaf6",
   "metadata": {},
   "source": [
    "# Matrix uses\n",
    "1. To represent VECTORS as the row\n",
    "2. To represent the linear function\n",
    "3. To represent the binary relationship"
   ]
  },
  {
   "cell_type": "code",
   "execution_count": 30,
   "id": "a4603ba3",
   "metadata": {},
   "outputs": [],
   "source": [
    "#         USER  0, 1, 2, 3, 4, 5, 6, 7, 8, 9      \n",
    "\n",
    "friendships = [[0, 1, 1, 0, 0, 0, 0, 0, 0, 0], # user 0\n",
    " [1, 0, 1, 1, 0, 0, 0, 0, 0, 0], # user 1\n",
    " [1, 1, 0, 1, 0, 0, 0, 0, 0, 0], # user 2\n",
    " [0, 1, 1, 0, 1, 0, 0, 0, 0, 0], # user 3\n",
    " [0, 0, 0, 1, 0, 1, 0, 0, 0, 0], # user 4\n",
    " [0, 0, 0, 0, 1, 0, 1, 1, 0, 0], # user 5\n",
    " [0, 0, 0, 0, 0, 1, 0, 0, 1, 0], # user 6\n",
    " [0, 0, 0, 0, 0, 1, 0, 0, 1, 0], # user 7\n",
    " [0, 0, 0, 0, 0, 0, 1, 1, 0, 1], # user 8\n",
    " [0, 0, 0, 0, 0, 0, 0, 0, 1, 0]] #"
   ]
  },
  {
   "cell_type": "code",
   "execution_count": 31,
   "id": "20e0ad40",
   "metadata": {},
   "outputs": [
    {
     "data": {
      "text/plain": [
       "True"
      ]
     },
     "execution_count": 31,
     "metadata": {},
     "output_type": "execute_result"
    }
   ],
   "source": [
    "# the way of finding the friendship is similar to finding a point in\n",
    "# Matrix and checking that value ==1 then they are friends\n",
    "friendships[0][2]==1"
   ]
  },
  {
   "cell_type": "code",
   "execution_count": 32,
   "id": "0646c9a1",
   "metadata": {},
   "outputs": [],
   "source": [
    "friends_of_five = [i # only need\n",
    " for i, is_friend in enumerate(friendships[5]) # to look at\n",
    " if is_friend] "
   ]
  },
  {
   "cell_type": "code",
   "execution_count": 33,
   "id": "93b5222d",
   "metadata": {},
   "outputs": [
    {
     "data": {
      "text/plain": [
       "[4, 6, 7]"
      ]
     },
     "execution_count": 33,
     "metadata": {},
     "output_type": "execute_result"
    }
   ],
   "source": [
    "friends_of_five"
   ]
  },
  {
   "cell_type": "markdown",
   "id": "566609b6",
   "metadata": {},
   "source": [
    "# Vector"
   ]
  },
  {
   "cell_type": "code",
   "execution_count": 40,
   "id": "00ababc4",
   "metadata": {},
   "outputs": [],
   "source": [
    "date_of_birth=[0,3,1,6]"
   ]
  },
  {
   "cell_type": "markdown",
   "id": "7838e87c",
   "metadata": {},
   "source": [
    "# FORMULA"
   ]
  },
  {
   "cell_type": "code",
   "execution_count": 42,
   "id": "0591c9ad",
   "metadata": {},
   "outputs": [],
   "source": [
    "# Vector Addition\n",
    "def vec_add(v,w):\n",
    "       return  [ v_i+ w_i for v_i, w_i in  zip(v,w)]"
   ]
  },
  {
   "cell_type": "code",
   "execution_count": 44,
   "id": "40ea8139",
   "metadata": {},
   "outputs": [
    {
     "data": {
      "text/plain": [
       "[0, 6, 2, 12]"
      ]
     },
     "execution_count": 44,
     "metadata": {},
     "output_type": "execute_result"
    }
   ],
   "source": [
    "vector_addition=vec_add( date_of_birth, date_of_birth)\n",
    "vector_addition"
   ]
  },
  {
   "cell_type": "code",
   "execution_count": 60,
   "id": "43bc375b",
   "metadata": {},
   "outputs": [],
   "source": [
    "# vector subtraction\n",
    "def vec_sub(v,w):\n",
    "       return  [ v_i- w_i for v_i, w_i in  zip(v,w)]"
   ]
  },
  {
   "cell_type": "code",
   "execution_count": 61,
   "id": "e1f4321d",
   "metadata": {},
   "outputs": [
    {
     "data": {
      "text/plain": [
       "[0, 0, 0, 0]"
      ]
     },
     "execution_count": 61,
     "metadata": {},
     "output_type": "execute_result"
    }
   ],
   "source": [
    "vec_sub(date_of_birth*2, date_of_birth)"
   ]
  },
  {
   "cell_type": "code",
   "execution_count": 65,
   "id": "b1f385bc",
   "metadata": {},
   "outputs": [
    {
     "name": "stdout",
     "output_type": "stream",
     "text": [
      "[(0, 0), (3, 3), (1, 1), (6, 6)]\n"
     ]
    }
   ],
   "source": [
    "print(list(zip(date_of_birth*2, date_of_birth)))"
   ]
  },
  {
   "cell_type": "code",
   "execution_count": 69,
   "id": "7d2bbcfa",
   "metadata": {},
   "outputs": [],
   "source": [
    "def vec_sub1(v,w):\n",
    "       return  [ v_i*3- w_i for v_i, w_i in  zip(v,w)]"
   ]
  },
  {
   "cell_type": "code",
   "execution_count": 70,
   "id": "bfc3b8db",
   "metadata": {},
   "outputs": [
    {
     "data": {
      "text/plain": [
       "[0, 6, 2, 12]"
      ]
     },
     "execution_count": 70,
     "metadata": {},
     "output_type": "execute_result"
    }
   ],
   "source": [
    "vec_sub1(date_of_birth, date_of_birth)"
   ]
  },
  {
   "cell_type": "code",
   "execution_count": 73,
   "id": "c575f12b",
   "metadata": {},
   "outputs": [],
   "source": [
    "# VECTORS SUM\n",
    "#[[0,3,1,6],[0,3,1,6],[0,3,1,6],[0,3,1,6]]\n",
    "vectors=[[0,3,1,6],[0,3,1,6],[0,3,1,6],[0,3,1,6]]\n",
    "\n",
    "def vec_sum(vect):\n",
    "    result=vect[0]\n",
    "    for vector in vect[1:]:\n",
    "        result=vec_add(result, vector)\n",
    "        \n",
    "    return result\n",
    "        \n"
   ]
  },
  {
   "cell_type": "code",
   "execution_count": 74,
   "id": "8442d9ee",
   "metadata": {},
   "outputs": [
    {
     "data": {
      "text/plain": [
       "[0, 12, 4, 24]"
      ]
     },
     "execution_count": 74,
     "metadata": {},
     "output_type": "execute_result"
    }
   ],
   "source": [
    "vec_sum(vectors)"
   ]
  },
  {
   "cell_type": "code",
   "execution_count": 85,
   "id": "2a946984",
   "metadata": {},
   "outputs": [],
   "source": [
    "from functools import reduce\n",
    "def vect_sum(vectors):\n",
    "    return reduce(vec_add, vectors)"
   ]
  },
  {
   "cell_type": "code",
   "execution_count": 86,
   "id": "70721d53",
   "metadata": {},
   "outputs": [
    {
     "data": {
      "text/plain": [
       "[0, 12, 4, 24]"
      ]
     },
     "execution_count": 86,
     "metadata": {},
     "output_type": "execute_result"
    }
   ],
   "source": [
    "vect_sum(vectors)"
   ]
  },
  {
   "cell_type": "code",
   "execution_count": 88,
   "id": "cbc12fb7",
   "metadata": {},
   "outputs": [],
   "source": [
    "# VECTOR MULTIPLY\n",
    "def vec_multiply(v,c):\n",
    "    return [  v_i *c for v_i in v]"
   ]
  },
  {
   "cell_type": "code",
   "execution_count": 90,
   "id": "90c0f70e",
   "metadata": {},
   "outputs": [
    {
     "data": {
      "text/plain": [
       "[0, 96, 32, 192]"
      ]
     },
     "execution_count": 90,
     "metadata": {},
     "output_type": "execute_result"
    }
   ],
   "source": [
    "multiplied_value = vec_multiply(date_of_birth, 32)\n",
    "multiplied_value"
   ]
  },
  {
   "cell_type": "code",
   "execution_count": 95,
   "id": "bd32b2e9",
   "metadata": {},
   "outputs": [
    {
     "data": {
      "text/plain": [
       "[0.0, 3.0, 1.0, 6.0]"
      ]
     },
     "execution_count": 95,
     "metadata": {},
     "output_type": "execute_result"
    }
   ],
   "source": [
    "#Vector Mean\n",
    "def vec_mean(vector):\n",
    "    return vec_multiply(vect_sum(vectors), 1/len(vector))\n",
    "vector_mean=vec_mean(date_of_birth)\n",
    "vector_mean"
   ]
  },
  {
   "cell_type": "code",
   "execution_count": 97,
   "id": "a96ea036",
   "metadata": {},
   "outputs": [
    {
     "data": {
      "text/plain": [
       "46"
      ]
     },
     "execution_count": 97,
     "metadata": {},
     "output_type": "execute_result"
    }
   ],
   "source": [
    "# DOT PRODUCT\n",
    "def dot(v, w):\n",
    " \"\"\"v_1 * w_1 + ... + v_n * w_n\"\"\"\n",
    " return sum(v_i * w_i\n",
    " for v_i, w_i in zip(v, w))\n",
    "dot(date_of_birth, date_of_birth)"
   ]
  },
  {
   "cell_type": "code",
   "execution_count": 101,
   "id": "b7456db5",
   "metadata": {},
   "outputs": [],
   "source": [
    "# SUM OF SQUARES\n",
    "def sum_of_squares(vector):\n",
    "    return dot(vector, vector)"
   ]
  },
  {
   "cell_type": "code",
   "execution_count": 102,
   "id": "ca304513",
   "metadata": {},
   "outputs": [
    {
     "data": {
      "text/plain": [
       "6.782329983125268"
      ]
     },
     "execution_count": 102,
     "metadata": {},
     "output_type": "execute_result"
    }
   ],
   "source": [
    "# MAGNITUDE\n",
    "import math\n",
    "def magnitude(vector):\n",
    "    return math.sqrt(sum_of_squares(vector))\n",
    "magnitude(date_of_birth)"
   ]
  },
  {
   "cell_type": "code",
   "execution_count": 105,
   "id": "963c4d93",
   "metadata": {},
   "outputs": [
    {
     "data": {
      "text/plain": [
       "515"
      ]
     },
     "execution_count": 105,
     "metadata": {},
     "output_type": "execute_result"
    }
   ],
   "source": [
    "# SQUARED DISTANCE\n",
    "def squared_distance(vector1, vector2):\n",
    "    return sum_of_squares(vec_sub(vector1, vector2))\n",
    "squared_distance([4,5,6],[1,2,3])"
   ]
  },
  {
   "cell_type": "code",
   "execution_count": 107,
   "id": "7defa680",
   "metadata": {},
   "outputs": [
    {
     "data": {
      "text/plain": [
       "22.693611435820433"
      ]
     },
     "execution_count": 107,
     "metadata": {},
     "output_type": "execute_result"
    }
   ],
   "source": [
    "# DISTANCE \n",
    "def distance(v, w):\n",
    "    return math.sqrt(squared_distance(v, w))\n",
    "distance([4,5,6],[1,2,3])"
   ]
  },
  {
   "cell_type": "markdown",
   "id": "7295bf0f",
   "metadata": {},
   "source": [
    "# STATISTICS"
   ]
  },
  {
   "cell_type": "code",
   "execution_count": 1,
   "id": "6731be4e",
   "metadata": {},
   "outputs": [],
   "source": [
    "def median(v):\n",
    " \"\"\"finds the 'middle-most' value of v\"\"\"\n",
    " n = len(v)\n",
    " sorted_v = sorted(v)\n",
    " midpoint = n // 2\n",
    " if n % 2 == 1:\n",
    " # if odd, return the middle value\n",
    "     return sorted_v[midpoint]\n",
    " else:\n",
    " # if even, return the average of the middle values\n",
    "     lo = midpoint - 1\n",
    "     hi = midpoint\n",
    "     return (sorted_v[lo] + sorted_v[hi]) / 2"
   ]
  },
  {
   "cell_type": "code",
   "execution_count": 2,
   "id": "4bb6c9b8",
   "metadata": {},
   "outputs": [
    {
     "data": {
      "text/plain": [
       "2.0"
      ]
     },
     "execution_count": 2,
     "metadata": {},
     "output_type": "execute_result"
    }
   ],
   "source": [
    "median([0,3,1,6])"
   ]
  },
  {
   "cell_type": "code",
   "execution_count": 3,
   "id": "26f8c193",
   "metadata": {},
   "outputs": [
    {
     "name": "stdout",
     "output_type": "stream",
     "text": [
      "[0, 3, 1, 6]\n"
     ]
    }
   ],
   "source": [
    "a=[0,3,1,6]\n",
    "sorted(a)\n",
    "print(a)"
   ]
  },
  {
   "cell_type": "code",
   "execution_count": 5,
   "id": "22698228",
   "metadata": {},
   "outputs": [
    {
     "data": {
      "text/plain": [
       "2.5"
      ]
     },
     "execution_count": 5,
     "metadata": {},
     "output_type": "execute_result"
    }
   ],
   "source": [
    "def mean(v):\n",
    "    n=len(v)\n",
    "    return sum(v)/n\n",
    "mean([0,3,1,6])"
   ]
  },
  {
   "cell_type": "code",
   "execution_count": null,
   "id": "18e4d08a",
   "metadata": {},
   "outputs": [],
   "source": []
  },
  {
   "cell_type": "markdown",
   "id": "6737541f",
   "metadata": {},
   "source": [
    "# Correlation Vs Bayes\n",
    "Think of correlation as just looking at two people and noticing they often wear the same color clothes. It might tell you they like the same colors, but it doesn't explain why. Maybe they shop at the same store, or maybe they’re siblings who share clothes.\n",
    "\n",
    "Bayes’ theorem, on the other hand, would dig deeper:\n",
    "\n",
    "How often do these people wear similar colors by chance? (Prior)\n",
    "What’s the likelihood they’d wear the same colors if they shop at the same store? (Likelihood)\n",
    "Based on this, what’s the probability they shop at the same store? (Posterior)"
   ]
  },
  {
   "cell_type": "markdown",
   "id": "b8ce6580",
   "metadata": {},
   "source": [
    "# Quantile"
   ]
  },
  {
   "cell_type": "code",
   "execution_count": 9,
   "id": "c9fcb92c",
   "metadata": {},
   "outputs": [
    {
     "data": {
      "text/plain": [
       "6"
      ]
     },
     "execution_count": 9,
     "metadata": {},
     "output_type": "execute_result"
    }
   ],
   "source": [
    "number=list(range(1,11))\n",
    "def quantile(x,p):\n",
    "    length=len(x)\n",
    "    quantile_index=length* p//100\n",
    "    actual_value=sorted(x)[quantile_index]\n",
    "    return actual_value\n",
    "quantile(number, 50)"
   ]
  },
  {
   "cell_type": "markdown",
   "id": "41826dbd",
   "metadata": {},
   "source": [
    "# Mode"
   ]
  },
  {
   "cell_type": "code",
   "execution_count": 16,
   "id": "ebd9cceb",
   "metadata": {},
   "outputs": [
    {
     "name": "stdout",
     "output_type": "stream",
     "text": [
      "dict_items([(1, 1), (2, 2), (3, 1), (4, 1)])\n"
     ]
    },
    {
     "data": {
      "text/plain": [
       "[2]"
      ]
     },
     "execution_count": 16,
     "metadata": {},
     "output_type": "execute_result"
    }
   ],
   "source": [
    "from collections import Counter\n",
    "mode_num=[1,2,2,3,4]\n",
    "def mode(x):\n",
    "    counts=Counter(x)\n",
    "    max_value=max(counts.values())\n",
    "    print(counts.items())\n",
    "    \n",
    "    return [key for key, value in counts.items() if value==max_value]\n",
    "    \n",
    "mode(mode_num)"
   ]
  },
  {
   "cell_type": "code",
   "execution_count": null,
   "id": "100c2f15",
   "metadata": {},
   "outputs": [],
   "source": []
  },
  {
   "cell_type": "code",
   "execution_count": null,
   "id": "dd921cc6",
   "metadata": {},
   "outputs": [],
   "source": []
  },
  {
   "cell_type": "code",
   "execution_count": null,
   "id": "326b06d0",
   "metadata": {},
   "outputs": [],
   "source": []
  },
  {
   "cell_type": "code",
   "execution_count": null,
   "id": "4e3a40d7",
   "metadata": {},
   "outputs": [],
   "source": []
  },
  {
   "cell_type": "code",
   "execution_count": null,
   "id": "c49df775",
   "metadata": {},
   "outputs": [],
   "source": []
  },
  {
   "cell_type": "code",
   "execution_count": null,
   "id": "b27d246c",
   "metadata": {},
   "outputs": [],
   "source": []
  },
  {
   "cell_type": "code",
   "execution_count": null,
   "id": "7c5ffdcb",
   "metadata": {},
   "outputs": [],
   "source": []
  },
  {
   "cell_type": "code",
   "execution_count": null,
   "id": "e7bf6585",
   "metadata": {},
   "outputs": [],
   "source": []
  },
  {
   "cell_type": "code",
   "execution_count": null,
   "id": "4f4533c5",
   "metadata": {},
   "outputs": [],
   "source": []
  },
  {
   "cell_type": "code",
   "execution_count": null,
   "id": "3e5e4b33",
   "metadata": {},
   "outputs": [],
   "source": []
  },
  {
   "cell_type": "code",
   "execution_count": null,
   "id": "fff20c45",
   "metadata": {},
   "outputs": [],
   "source": []
  },
  {
   "cell_type": "code",
   "execution_count": null,
   "id": "ff8d595b",
   "metadata": {},
   "outputs": [],
   "source": []
  }
 ],
 "metadata": {
  "kernelspec": {
   "display_name": "Python 3 (ipykernel)",
   "language": "python",
   "name": "python3"
  },
  "language_info": {
   "codemirror_mode": {
    "name": "ipython",
    "version": 3
   },
   "file_extension": ".py",
   "mimetype": "text/x-python",
   "name": "python",
   "nbconvert_exporter": "python",
   "pygments_lexer": "ipython3",
   "version": "3.11.4"
  }
 },
 "nbformat": 4,
 "nbformat_minor": 5
}
